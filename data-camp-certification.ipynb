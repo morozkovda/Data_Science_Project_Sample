{
 "cells": [
  {
   "cell_type": "markdown",
   "id": "1c758a6f",
   "metadata": {
    "_cell_guid": "b1076dfc-b9ad-4769-8c92-a6c4dae69d19",
    "_uuid": "8f2839f25d086af736a60e9eeb907d3b93b6e0e5",
    "execution": {
     "iopub.execute_input": "2023-03-25T16:20:43.234217Z",
     "iopub.status.busy": "2023-03-25T16:20:43.232981Z",
     "iopub.status.idle": "2023-03-25T16:20:45.620942Z",
     "shell.execute_reply": "2023-03-25T16:20:45.619166Z",
     "shell.execute_reply.started": "2023-03-25T16:20:43.234171Z"
    },
    "papermill": {
     "duration": 0.010727,
     "end_time": "2023-03-29T03:55:44.633894",
     "exception": false,
     "start_time": "2023-03-29T03:55:44.623167",
     "status": "completed"
    },
    "tags": []
   },
   "source": [
    "## 📝 Task List\n",
    "\n",
    "Your written report should include both code, output and written text summaries of the following:\n",
    "- Data Validation:   \n",
    "  - Describe validation and cleaning steps for every column in the data \n",
    "- Exploratory Analysis:  \n",
    "  - Include two different graphics showing single variables only to demonstrate the characteristics of data  \n",
    "  - Include at least one graphic showing two or more variables to represent the relationship between features\n",
    "  - Describe your findings\n",
    "- Model Development\n",
    "  - Include your reasons for selecting the models you use as well as a statement of the problem type\n",
    "  - Code to fit the baseline and comparison models\n",
    "- Model Evaluation\n",
    "  - Describe the performance of the two models based on an appropriate metric\n",
    "- Business Metrics\n",
    "  - Define a way to compare your model performance to the business\n",
    "  - Describe how your models perform using this approach\n",
    "- Final summary including recommendations that the business should undertake\n",
    "\n",
    "From: Daniil\n",
    "To: Head of Data Science\n",
    "Subject: Report on the assigned project\n",
    "\n",
    "1) Data Validation\n",
    "First, of all after uploading the data it was found that it contains 52 NaN values in calories, carbohydrate, sugar, protein. I tried to use KNN imputer, however it didn't work out well, so I abandoned the idea as the results of the model turned out to be worse, so the decision was to drop 52 missing rows. High traffic also has missing values but in this case, it is not missing at random, so I just replaced NA values with Not High.\n",
    "Backlog of changes:\n",
    "calories - NA rows, extreme outliers (Q3 + 3 * IQR) were capped, scaled using MinMax\n",
    "carbohydrate - NA rows dropped, extreme outliers (Q3 + 3 * IQR) were capped, scaled using MinMax\n",
    "sugar - NA rows dropped, extreme outliers (Q3 + 3 * IQR) were capped, scaled using MinMax\n",
    "protein - NA rows dropped, extreme outliers (Q3 + 3 * IQR) were capped, scaled using MinMax\n",
    "category - 'Chicken Breast' values for changed to 'Chicken', then columns were one hot encoded\n",
    "servings - 2 values contained 'as a snack', they belonged to Lunch/Snack category so 'as a snack' was removed, the column was transformed to float 64\n",
    "high_traffic - NaN values were replaced with 'not high' and then changed to 1 - high, 0 - not high\n",
    "\n",
    "2) Exploratory Analysis\n",
    "Not to overload report I will ask you to refer to the graphs that will be enclosed below my report in the c.\n",
    "First, after plotting histograms of our numeric variables (calories,carbohydrate, sugar, protein,protein) we can clearly observe that data is skewed left with some outliers that will be later capped. Also, as for the largest number of categories observed from count plot we can see that chicken, brekfast, beverages have the most recipes.\n",
    "Second, judging from category by traffic graphic, we observe that the categories like vegetable, potato have the highest traffic labels, on the other hand beverages, beverages, breakfast contain a lot of not high labels. This gives good sense of what categories maybe popular and not.\n",
    "Third, after looking at barplots of high traffic vs numeric columns, we may conclude that on average the larger number of serving, calories, carbohydrate, protein results in high traffic, sugar has the opposite affect: on average if we have more sugar it results in low traffic\n",
    "Fourth, after having a look at correlation heat map we can observe different correlations for our categories: category_Beverages = -0.38, category_Vegetable = 0.25, category_Potato = 0.22, category_Breakfast = -0.21. Which confirms our findings from the second step.\n",
    "\n",
    "4) Model Development\n",
    "We can be sure that it is classification problem.  Here we predict if the recipe shown will result in 1 high traffic, 0 - not high traffic.\n",
    "At first I ran LogisticRegression, KNeighborsClassifier,GaussianNB, DecisionTreeClassifier,RandomForestClassifier ,LinearSVC, Perceptron, SGDClassifier. Cross Validation (k=10) F1, precision and recall over 80% were the main metrics to assess the quality of the models. Based on these metrics I've chosen three models LogisticRegression, LinearSVC, SGDClassifier. However, LinearSVC seems to replicate the results of logistic regression. So as a base model I left only LogisticRegression and SGDClassifier as comparison model.\n",
    "\n",
    "5)Model Evaluation\n",
    "\n",
    "Logistic Regression\n",
    "CV f1 score is 0.7979\n",
    "CV precision is 0.797\n",
    "CV recall is 0.8014\n",
    "\n",
    "Stochastic Gradient Descent Classifier\n",
    "CV f1 score is 0.7738\n",
    "CV precision is 0.7616\n",
    "CV recall is 0.8952\n",
    "\n",
    "As we see from the results of model evaluation Logistic Regression is more balanced and outperforms Stochastic Gradient Descent Classifier. What we want is the highest precision with decent recall. Stochastic Gradient Descent Classifier has great recall, but in this case it matters less than precision.\n",
    "\n",
    "After that GridSearchCV with StratifiedKFold was employed to improve the results of the models. They turned out to arrive to the same results on our test data. (Interesting fact Stochastic Gradient Descent Classifier outperformed LogReg on CV after improvement)\n",
    "Logistic Regression best params {'C': 0.1, 'class_weight': 'balanced', 'fit_intercept': True, 'penalty': 'l1', 'solver': 'saga'}\n",
    "SGD Classifier params {'alpha': 0.01, 'l1_ratio': 1, 'loss': 'modified_huber', 'max_iter': 1000, 'penalty': 'elasticnet'}\n",
    "\n",
    "Precision = 0.82\n",
    "Recall = 0.80\n",
    "F1 = 0.81\n",
    "\n",
    "Final answer: both LogisticRegression and Stochastic Gradient Descent Classifier can be used for this taks. I would opt for Stochastic Gradient Descent Classifier because it is more computationally efficient, however if interpretability is important, logistic regression may be a better choice. Here we would choose LogisticRegression to create understandable metric.\n",
    "\n",
    "6) Business Metrics\n",
    "As per business to track the performance we will create high traffic rate:\n",
    "Use LogisticRegresion that I developed to calculate the probabilities of a high traffic for each input. Average out these probabilities to get the final metric. The idea behind it is to increase high traffic rate, the ideal situation if we have high traffic rate = 1. However, it is not possible, because it will literally mean that each recipe high traffic. But the business objective is to get this metric as high as we can. \n",
    "Right now the metric is 0.52. Not bad but can be improved.\n",
    "\n",
    "7) Final summary.\n",
    "In conclusion, the main reccomendations are\n",
    "1. Show categories that have great positive correlation such as vegetable, potato recipes\n",
    "2. Show less categories that have less positive correlation such as beverages, breakfast \n",
    "3. Show more recipes that have more servings, good on calories, protein and carbohydrate and contain less sugar. ('healthy recipes')\n",
    "4. Collect data on missing values to improve the performance of the model"
   ]
  },
  {
   "cell_type": "code",
   "execution_count": 1,
   "id": "7e3bb423",
   "metadata": {
    "execution": {
     "iopub.execute_input": "2023-03-29T03:55:44.656628Z",
     "iopub.status.busy": "2023-03-29T03:55:44.655970Z",
     "iopub.status.idle": "2023-03-29T03:55:46.588584Z",
     "shell.execute_reply": "2023-03-29T03:55:46.587143Z"
    },
    "papermill": {
     "duration": 1.947212,
     "end_time": "2023-03-29T03:55:46.591747",
     "exception": false,
     "start_time": "2023-03-29T03:55:44.644535",
     "status": "completed"
    },
    "tags": []
   },
   "outputs": [],
   "source": [
    "# import necessary libraries\n",
    "import numpy as np\n",
    "import pandas as pd\n",
    "import os\n",
    "import seaborn as sns\n",
    "import matplotlib.pyplot as plt\n",
    "from sklearn.impute import KNNImputer\n",
    "from sklearn.preprocessing import OneHotEncoder\n",
    "import numpy as np \n",
    "import pandas as pd \n",
    "from sklearn.preprocessing import LabelEncoder\n",
    "import matplotlib.pyplot as plt\n",
    "import seaborn as sns\n",
    "from sklearn.feature_selection import SelectKBest, f_classif\n",
    "from sklearn.model_selection import train_test_split\n",
    "from sklearn.preprocessing import MinMaxScaler, StandardScaler\n",
    "from sklearn.linear_model import LogisticRegression\n",
    "from sklearn.svm import SVC, LinearSVC\n",
    "from sklearn.ensemble import RandomForestClassifier\n",
    "from sklearn.neighbors import KNeighborsClassifier\n",
    "from sklearn.naive_bayes import GaussianNB\n",
    "from sklearn.linear_model import Perceptron\n",
    "from sklearn.linear_model import SGDClassifier\n",
    "from sklearn.tree import DecisionTreeClassifier\n",
    "from sklearn.metrics import accuracy_score, precision_score, recall_score, confusion_matrix\n",
    "from sklearn.model_selection import cross_val_score\n",
    "from sklearn.model_selection import GridSearchCV\n",
    "from sklearn.metrics import roc_auc_score, plot_confusion_matrix, roc_curve, classification_report,plot_roc_curve\n",
    "from sklearn.model_selection import StratifiedKFold\n",
    "from scipy.stats.mstats import winsorize\n",
    "import time\n",
    "import warnings\n",
    "warnings.filterwarnings('ignore')\n",
    "import xgboost as xgb\n",
    "import os"
   ]
  },
  {
   "cell_type": "code",
   "execution_count": 2,
   "id": "75a61175",
   "metadata": {
    "execution": {
     "iopub.execute_input": "2023-03-29T03:55:46.614975Z",
     "iopub.status.busy": "2023-03-29T03:55:46.614560Z",
     "iopub.status.idle": "2023-03-29T03:55:46.664960Z",
     "shell.execute_reply": "2023-03-29T03:55:46.663894Z"
    },
    "papermill": {
     "duration": 0.065283,
     "end_time": "2023-03-29T03:55:46.666952",
     "exception": false,
     "start_time": "2023-03-29T03:55:46.601669",
     "status": "completed"
    },
    "tags": []
   },
   "outputs": [
    {
     "data": {
      "text/html": [
       "<div>\n",
       "<style scoped>\n",
       "    .dataframe tbody tr th:only-of-type {\n",
       "        vertical-align: middle;\n",
       "    }\n",
       "\n",
       "    .dataframe tbody tr th {\n",
       "        vertical-align: top;\n",
       "    }\n",
       "\n",
       "    .dataframe thead th {\n",
       "        text-align: right;\n",
       "    }\n",
       "</style>\n",
       "<table border=\"1\" class=\"dataframe\">\n",
       "  <thead>\n",
       "    <tr style=\"text-align: right;\">\n",
       "      <th></th>\n",
       "      <th>recipe</th>\n",
       "      <th>calories</th>\n",
       "      <th>carbohydrate</th>\n",
       "      <th>sugar</th>\n",
       "      <th>protein</th>\n",
       "      <th>category</th>\n",
       "      <th>servings</th>\n",
       "      <th>high_traffic</th>\n",
       "    </tr>\n",
       "  </thead>\n",
       "  <tbody>\n",
       "    <tr>\n",
       "      <th>0</th>\n",
       "      <td>1</td>\n",
       "      <td>NaN</td>\n",
       "      <td>NaN</td>\n",
       "      <td>NaN</td>\n",
       "      <td>NaN</td>\n",
       "      <td>Pork</td>\n",
       "      <td>6</td>\n",
       "      <td>High</td>\n",
       "    </tr>\n",
       "    <tr>\n",
       "      <th>1</th>\n",
       "      <td>2</td>\n",
       "      <td>35.48</td>\n",
       "      <td>38.56</td>\n",
       "      <td>0.66</td>\n",
       "      <td>0.92</td>\n",
       "      <td>Potato</td>\n",
       "      <td>4</td>\n",
       "      <td>High</td>\n",
       "    </tr>\n",
       "    <tr>\n",
       "      <th>2</th>\n",
       "      <td>3</td>\n",
       "      <td>914.28</td>\n",
       "      <td>42.68</td>\n",
       "      <td>3.09</td>\n",
       "      <td>2.88</td>\n",
       "      <td>Breakfast</td>\n",
       "      <td>1</td>\n",
       "      <td>NaN</td>\n",
       "    </tr>\n",
       "    <tr>\n",
       "      <th>3</th>\n",
       "      <td>4</td>\n",
       "      <td>97.03</td>\n",
       "      <td>30.56</td>\n",
       "      <td>38.63</td>\n",
       "      <td>0.02</td>\n",
       "      <td>Beverages</td>\n",
       "      <td>4</td>\n",
       "      <td>High</td>\n",
       "    </tr>\n",
       "    <tr>\n",
       "      <th>4</th>\n",
       "      <td>5</td>\n",
       "      <td>27.05</td>\n",
       "      <td>1.85</td>\n",
       "      <td>0.80</td>\n",
       "      <td>0.53</td>\n",
       "      <td>Beverages</td>\n",
       "      <td>4</td>\n",
       "      <td>NaN</td>\n",
       "    </tr>\n",
       "  </tbody>\n",
       "</table>\n",
       "</div>"
      ],
      "text/plain": [
       "   recipe  calories  carbohydrate  sugar  protein   category servings  \\\n",
       "0       1       NaN           NaN    NaN      NaN       Pork        6   \n",
       "1       2     35.48         38.56   0.66     0.92     Potato        4   \n",
       "2       3    914.28         42.68   3.09     2.88  Breakfast        1   \n",
       "3       4     97.03         30.56  38.63     0.02  Beverages        4   \n",
       "4       5     27.05          1.85   0.80     0.53  Beverages        4   \n",
       "\n",
       "  high_traffic  \n",
       "0         High  \n",
       "1         High  \n",
       "2          NaN  \n",
       "3         High  \n",
       "4          NaN  "
      ]
     },
     "execution_count": 2,
     "metadata": {},
     "output_type": "execute_result"
    }
   ],
   "source": [
    "# connect dataframe\n",
    "df = pd.read_csv(r'/kaggle/input/recipe-site-traffic/recipe_site_traffic_2212.csv')\n",
    "df.head()"
   ]
  },
  {
   "cell_type": "code",
   "execution_count": 3,
   "id": "2e12ba57",
   "metadata": {
    "execution": {
     "iopub.execute_input": "2023-03-29T03:55:46.692642Z",
     "iopub.status.busy": "2023-03-29T03:55:46.692182Z",
     "iopub.status.idle": "2023-03-29T03:55:46.704155Z",
     "shell.execute_reply": "2023-03-29T03:55:46.702789Z"
    },
    "papermill": {
     "duration": 0.029114,
     "end_time": "2023-03-29T03:55:46.707006",
     "exception": false,
     "start_time": "2023-03-29T03:55:46.677892",
     "status": "completed"
    },
    "tags": []
   },
   "outputs": [],
   "source": [
    "# set index as recipe\n",
    "df = df.set_index('recipe')"
   ]
  },
  {
   "cell_type": "code",
   "execution_count": 4,
   "id": "ddf8d979",
   "metadata": {
    "execution": {
     "iopub.execute_input": "2023-03-29T03:55:46.729548Z",
     "iopub.status.busy": "2023-03-29T03:55:46.729144Z",
     "iopub.status.idle": "2023-03-29T03:55:46.745795Z",
     "shell.execute_reply": "2023-03-29T03:55:46.744354Z"
    },
    "papermill": {
     "duration": 0.031286,
     "end_time": "2023-03-29T03:55:46.748714",
     "exception": false,
     "start_time": "2023-03-29T03:55:46.717428",
     "status": "completed"
    },
    "tags": []
   },
   "outputs": [
    {
     "data": {
      "text/plain": [
       "True"
      ]
     },
     "execution_count": 4,
     "metadata": {},
     "output_type": "execute_result"
    }
   ],
   "source": [
    "# check for duplicates\n",
    "df.duplicated().any()"
   ]
  },
  {
   "cell_type": "code",
   "execution_count": 5,
   "id": "f14b0f96",
   "metadata": {
    "execution": {
     "iopub.execute_input": "2023-03-29T03:55:46.773705Z",
     "iopub.status.busy": "2023-03-29T03:55:46.773328Z",
     "iopub.status.idle": "2023-03-29T03:55:46.792578Z",
     "shell.execute_reply": "2023-03-29T03:55:46.791530Z"
    },
    "papermill": {
     "duration": 0.034467,
     "end_time": "2023-03-29T03:55:46.794657",
     "exception": false,
     "start_time": "2023-03-29T03:55:46.760190",
     "status": "completed"
    },
    "tags": []
   },
   "outputs": [
    {
     "data": {
      "text/html": [
       "<div>\n",
       "<style scoped>\n",
       "    .dataframe tbody tr th:only-of-type {\n",
       "        vertical-align: middle;\n",
       "    }\n",
       "\n",
       "    .dataframe tbody tr th {\n",
       "        vertical-align: top;\n",
       "    }\n",
       "\n",
       "    .dataframe thead th {\n",
       "        text-align: right;\n",
       "    }\n",
       "</style>\n",
       "<table border=\"1\" class=\"dataframe\">\n",
       "  <thead>\n",
       "    <tr style=\"text-align: right;\">\n",
       "      <th></th>\n",
       "      <th>calories</th>\n",
       "      <th>carbohydrate</th>\n",
       "      <th>sugar</th>\n",
       "      <th>protein</th>\n",
       "      <th>category</th>\n",
       "      <th>servings</th>\n",
       "      <th>high_traffic</th>\n",
       "    </tr>\n",
       "    <tr>\n",
       "      <th>recipe</th>\n",
       "      <th></th>\n",
       "      <th></th>\n",
       "      <th></th>\n",
       "      <th></th>\n",
       "      <th></th>\n",
       "      <th></th>\n",
       "      <th></th>\n",
       "    </tr>\n",
       "  </thead>\n",
       "  <tbody>\n",
       "    <tr>\n",
       "      <th>90</th>\n",
       "      <td>NaN</td>\n",
       "      <td>NaN</td>\n",
       "      <td>NaN</td>\n",
       "      <td>NaN</td>\n",
       "      <td>Pork</td>\n",
       "      <td>6</td>\n",
       "      <td>High</td>\n",
       "    </tr>\n",
       "    <tr>\n",
       "      <th>210</th>\n",
       "      <td>NaN</td>\n",
       "      <td>NaN</td>\n",
       "      <td>NaN</td>\n",
       "      <td>NaN</td>\n",
       "      <td>Dessert</td>\n",
       "      <td>2</td>\n",
       "      <td>High</td>\n",
       "    </tr>\n",
       "    <tr>\n",
       "      <th>352</th>\n",
       "      <td>NaN</td>\n",
       "      <td>NaN</td>\n",
       "      <td>NaN</td>\n",
       "      <td>NaN</td>\n",
       "      <td>Potato</td>\n",
       "      <td>4</td>\n",
       "      <td>High</td>\n",
       "    </tr>\n",
       "    <tr>\n",
       "      <th>355</th>\n",
       "      <td>NaN</td>\n",
       "      <td>NaN</td>\n",
       "      <td>NaN</td>\n",
       "      <td>NaN</td>\n",
       "      <td>Pork</td>\n",
       "      <td>4</td>\n",
       "      <td>High</td>\n",
       "    </tr>\n",
       "    <tr>\n",
       "      <th>377</th>\n",
       "      <td>NaN</td>\n",
       "      <td>NaN</td>\n",
       "      <td>NaN</td>\n",
       "      <td>NaN</td>\n",
       "      <td>Pork</td>\n",
       "      <td>6</td>\n",
       "      <td>High</td>\n",
       "    </tr>\n",
       "    <tr>\n",
       "      <th>389</th>\n",
       "      <td>NaN</td>\n",
       "      <td>NaN</td>\n",
       "      <td>NaN</td>\n",
       "      <td>NaN</td>\n",
       "      <td>Lunch/Snacks</td>\n",
       "      <td>4</td>\n",
       "      <td>High</td>\n",
       "    </tr>\n",
       "    <tr>\n",
       "      <th>428</th>\n",
       "      <td>NaN</td>\n",
       "      <td>NaN</td>\n",
       "      <td>NaN</td>\n",
       "      <td>NaN</td>\n",
       "      <td>Vegetable</td>\n",
       "      <td>4</td>\n",
       "      <td>High</td>\n",
       "    </tr>\n",
       "    <tr>\n",
       "      <th>456</th>\n",
       "      <td>NaN</td>\n",
       "      <td>NaN</td>\n",
       "      <td>NaN</td>\n",
       "      <td>NaN</td>\n",
       "      <td>Pork</td>\n",
       "      <td>6</td>\n",
       "      <td>High</td>\n",
       "    </tr>\n",
       "    <tr>\n",
       "      <th>539</th>\n",
       "      <td>NaN</td>\n",
       "      <td>NaN</td>\n",
       "      <td>NaN</td>\n",
       "      <td>NaN</td>\n",
       "      <td>Vegetable</td>\n",
       "      <td>4</td>\n",
       "      <td>High</td>\n",
       "    </tr>\n",
       "    <tr>\n",
       "      <th>546</th>\n",
       "      <td>NaN</td>\n",
       "      <td>NaN</td>\n",
       "      <td>NaN</td>\n",
       "      <td>NaN</td>\n",
       "      <td>Chicken Breast</td>\n",
       "      <td>6</td>\n",
       "      <td>High</td>\n",
       "    </tr>\n",
       "    <tr>\n",
       "      <th>556</th>\n",
       "      <td>NaN</td>\n",
       "      <td>NaN</td>\n",
       "      <td>NaN</td>\n",
       "      <td>NaN</td>\n",
       "      <td>Meat</td>\n",
       "      <td>2</td>\n",
       "      <td>NaN</td>\n",
       "    </tr>\n",
       "    <tr>\n",
       "      <th>609</th>\n",
       "      <td>NaN</td>\n",
       "      <td>NaN</td>\n",
       "      <td>NaN</td>\n",
       "      <td>NaN</td>\n",
       "      <td>Chicken Breast</td>\n",
       "      <td>4</td>\n",
       "      <td>NaN</td>\n",
       "    </tr>\n",
       "    <tr>\n",
       "      <th>675</th>\n",
       "      <td>NaN</td>\n",
       "      <td>NaN</td>\n",
       "      <td>NaN</td>\n",
       "      <td>NaN</td>\n",
       "      <td>Pork</td>\n",
       "      <td>4</td>\n",
       "      <td>High</td>\n",
       "    </tr>\n",
       "    <tr>\n",
       "      <th>712</th>\n",
       "      <td>NaN</td>\n",
       "      <td>NaN</td>\n",
       "      <td>NaN</td>\n",
       "      <td>NaN</td>\n",
       "      <td>Lunch/Snacks</td>\n",
       "      <td>4</td>\n",
       "      <td>High</td>\n",
       "    </tr>\n",
       "    <tr>\n",
       "      <th>713</th>\n",
       "      <td>NaN</td>\n",
       "      <td>NaN</td>\n",
       "      <td>NaN</td>\n",
       "      <td>NaN</td>\n",
       "      <td>Pork</td>\n",
       "      <td>6</td>\n",
       "      <td>High</td>\n",
       "    </tr>\n",
       "    <tr>\n",
       "      <th>750</th>\n",
       "      <td>NaN</td>\n",
       "      <td>NaN</td>\n",
       "      <td>NaN</td>\n",
       "      <td>NaN</td>\n",
       "      <td>Dessert</td>\n",
       "      <td>4</td>\n",
       "      <td>High</td>\n",
       "    </tr>\n",
       "    <tr>\n",
       "      <th>852</th>\n",
       "      <td>NaN</td>\n",
       "      <td>NaN</td>\n",
       "      <td>NaN</td>\n",
       "      <td>NaN</td>\n",
       "      <td>Lunch/Snacks</td>\n",
       "      <td>4</td>\n",
       "      <td>High</td>\n",
       "    </tr>\n",
       "    <tr>\n",
       "      <th>860</th>\n",
       "      <td>NaN</td>\n",
       "      <td>NaN</td>\n",
       "      <td>NaN</td>\n",
       "      <td>NaN</td>\n",
       "      <td>One Dish Meal</td>\n",
       "      <td>4</td>\n",
       "      <td>NaN</td>\n",
       "    </tr>\n",
       "    <tr>\n",
       "      <th>891</th>\n",
       "      <td>NaN</td>\n",
       "      <td>NaN</td>\n",
       "      <td>NaN</td>\n",
       "      <td>NaN</td>\n",
       "      <td>Meat</td>\n",
       "      <td>4</td>\n",
       "      <td>High</td>\n",
       "    </tr>\n",
       "    <tr>\n",
       "      <th>894</th>\n",
       "      <td>NaN</td>\n",
       "      <td>NaN</td>\n",
       "      <td>NaN</td>\n",
       "      <td>NaN</td>\n",
       "      <td>One Dish Meal</td>\n",
       "      <td>4</td>\n",
       "      <td>NaN</td>\n",
       "    </tr>\n",
       "    <tr>\n",
       "      <th>919</th>\n",
       "      <td>NaN</td>\n",
       "      <td>NaN</td>\n",
       "      <td>NaN</td>\n",
       "      <td>NaN</td>\n",
       "      <td>Pork</td>\n",
       "      <td>6</td>\n",
       "      <td>High</td>\n",
       "    </tr>\n",
       "    <tr>\n",
       "      <th>939</th>\n",
       "      <td>NaN</td>\n",
       "      <td>NaN</td>\n",
       "      <td>NaN</td>\n",
       "      <td>NaN</td>\n",
       "      <td>Pork</td>\n",
       "      <td>4</td>\n",
       "      <td>High</td>\n",
       "    </tr>\n",
       "    <tr>\n",
       "      <th>944</th>\n",
       "      <td>NaN</td>\n",
       "      <td>NaN</td>\n",
       "      <td>NaN</td>\n",
       "      <td>NaN</td>\n",
       "      <td>Potato</td>\n",
       "      <td>2</td>\n",
       "      <td>High</td>\n",
       "    </tr>\n",
       "  </tbody>\n",
       "</table>\n",
       "</div>"
      ],
      "text/plain": [
       "        calories  carbohydrate  sugar  protein        category servings  \\\n",
       "recipe                                                                    \n",
       "90           NaN           NaN    NaN      NaN            Pork        6   \n",
       "210          NaN           NaN    NaN      NaN         Dessert        2   \n",
       "352          NaN           NaN    NaN      NaN          Potato        4   \n",
       "355          NaN           NaN    NaN      NaN            Pork        4   \n",
       "377          NaN           NaN    NaN      NaN            Pork        6   \n",
       "389          NaN           NaN    NaN      NaN    Lunch/Snacks        4   \n",
       "428          NaN           NaN    NaN      NaN       Vegetable        4   \n",
       "456          NaN           NaN    NaN      NaN            Pork        6   \n",
       "539          NaN           NaN    NaN      NaN       Vegetable        4   \n",
       "546          NaN           NaN    NaN      NaN  Chicken Breast        6   \n",
       "556          NaN           NaN    NaN      NaN            Meat        2   \n",
       "609          NaN           NaN    NaN      NaN  Chicken Breast        4   \n",
       "675          NaN           NaN    NaN      NaN            Pork        4   \n",
       "712          NaN           NaN    NaN      NaN    Lunch/Snacks        4   \n",
       "713          NaN           NaN    NaN      NaN            Pork        6   \n",
       "750          NaN           NaN    NaN      NaN         Dessert        4   \n",
       "852          NaN           NaN    NaN      NaN    Lunch/Snacks        4   \n",
       "860          NaN           NaN    NaN      NaN   One Dish Meal        4   \n",
       "891          NaN           NaN    NaN      NaN            Meat        4   \n",
       "894          NaN           NaN    NaN      NaN   One Dish Meal        4   \n",
       "919          NaN           NaN    NaN      NaN            Pork        6   \n",
       "939          NaN           NaN    NaN      NaN            Pork        4   \n",
       "944          NaN           NaN    NaN      NaN          Potato        2   \n",
       "\n",
       "       high_traffic  \n",
       "recipe               \n",
       "90             High  \n",
       "210            High  \n",
       "352            High  \n",
       "355            High  \n",
       "377            High  \n",
       "389            High  \n",
       "428            High  \n",
       "456            High  \n",
       "539            High  \n",
       "546            High  \n",
       "556             NaN  \n",
       "609             NaN  \n",
       "675            High  \n",
       "712            High  \n",
       "713            High  \n",
       "750            High  \n",
       "852            High  \n",
       "860             NaN  \n",
       "891            High  \n",
       "894             NaN  \n",
       "919            High  \n",
       "939            High  \n",
       "944            High  "
      ]
     },
     "execution_count": 5,
     "metadata": {},
     "output_type": "execute_result"
    }
   ],
   "source": [
    "# study duplicates\n",
    "duplicates = df[df.duplicated()]\n",
    "duplicates"
   ]
  },
  {
   "cell_type": "code",
   "execution_count": 6,
   "id": "0846fd79",
   "metadata": {
    "execution": {
     "iopub.execute_input": "2023-03-29T03:55:46.820832Z",
     "iopub.status.busy": "2023-03-29T03:55:46.820426Z",
     "iopub.status.idle": "2023-03-29T03:55:46.849399Z",
     "shell.execute_reply": "2023-03-29T03:55:46.847661Z"
    },
    "papermill": {
     "duration": 0.046007,
     "end_time": "2023-03-29T03:55:46.852391",
     "exception": false,
     "start_time": "2023-03-29T03:55:46.806384",
     "status": "completed"
    },
    "tags": []
   },
   "outputs": [
    {
     "data": {
      "text/html": [
       "<div>\n",
       "<style scoped>\n",
       "    .dataframe tbody tr th:only-of-type {\n",
       "        vertical-align: middle;\n",
       "    }\n",
       "\n",
       "    .dataframe tbody tr th {\n",
       "        vertical-align: top;\n",
       "    }\n",
       "\n",
       "    .dataframe thead th {\n",
       "        text-align: right;\n",
       "    }\n",
       "</style>\n",
       "<table border=\"1\" class=\"dataframe\">\n",
       "  <thead>\n",
       "    <tr style=\"text-align: right;\">\n",
       "      <th></th>\n",
       "      <th>calories</th>\n",
       "      <th>carbohydrate</th>\n",
       "      <th>sugar</th>\n",
       "      <th>protein</th>\n",
       "    </tr>\n",
       "  </thead>\n",
       "  <tbody>\n",
       "    <tr>\n",
       "      <th>count</th>\n",
       "      <td>895.000000</td>\n",
       "      <td>895.000000</td>\n",
       "      <td>895.000000</td>\n",
       "      <td>895.000000</td>\n",
       "    </tr>\n",
       "    <tr>\n",
       "      <th>mean</th>\n",
       "      <td>435.939196</td>\n",
       "      <td>35.069676</td>\n",
       "      <td>9.046547</td>\n",
       "      <td>24.149296</td>\n",
       "    </tr>\n",
       "    <tr>\n",
       "      <th>std</th>\n",
       "      <td>453.020997</td>\n",
       "      <td>43.949032</td>\n",
       "      <td>14.679176</td>\n",
       "      <td>36.369739</td>\n",
       "    </tr>\n",
       "    <tr>\n",
       "      <th>min</th>\n",
       "      <td>0.140000</td>\n",
       "      <td>0.030000</td>\n",
       "      <td>0.010000</td>\n",
       "      <td>0.000000</td>\n",
       "    </tr>\n",
       "    <tr>\n",
       "      <th>25%</th>\n",
       "      <td>110.430000</td>\n",
       "      <td>8.375000</td>\n",
       "      <td>1.690000</td>\n",
       "      <td>3.195000</td>\n",
       "    </tr>\n",
       "    <tr>\n",
       "      <th>50%</th>\n",
       "      <td>288.550000</td>\n",
       "      <td>21.480000</td>\n",
       "      <td>4.550000</td>\n",
       "      <td>10.800000</td>\n",
       "    </tr>\n",
       "    <tr>\n",
       "      <th>75%</th>\n",
       "      <td>597.650000</td>\n",
       "      <td>44.965000</td>\n",
       "      <td>9.800000</td>\n",
       "      <td>30.200000</td>\n",
       "    </tr>\n",
       "    <tr>\n",
       "      <th>max</th>\n",
       "      <td>3633.160000</td>\n",
       "      <td>530.420000</td>\n",
       "      <td>148.750000</td>\n",
       "      <td>363.360000</td>\n",
       "    </tr>\n",
       "  </tbody>\n",
       "</table>\n",
       "</div>"
      ],
      "text/plain": [
       "          calories  carbohydrate       sugar     protein\n",
       "count   895.000000    895.000000  895.000000  895.000000\n",
       "mean    435.939196     35.069676    9.046547   24.149296\n",
       "std     453.020997     43.949032   14.679176   36.369739\n",
       "min       0.140000      0.030000    0.010000    0.000000\n",
       "25%     110.430000      8.375000    1.690000    3.195000\n",
       "50%     288.550000     21.480000    4.550000   10.800000\n",
       "75%     597.650000     44.965000    9.800000   30.200000\n",
       "max    3633.160000    530.420000  148.750000  363.360000"
      ]
     },
     "execution_count": 6,
     "metadata": {},
     "output_type": "execute_result"
    }
   ],
   "source": [
    "# get statistical summary\n",
    "df.describe()"
   ]
  },
  {
   "cell_type": "code",
   "execution_count": 7,
   "id": "974b5127",
   "metadata": {
    "execution": {
     "iopub.execute_input": "2023-03-29T03:55:46.878045Z",
     "iopub.status.busy": "2023-03-29T03:55:46.877537Z",
     "iopub.status.idle": "2023-03-29T03:55:46.898060Z",
     "shell.execute_reply": "2023-03-29T03:55:46.896152Z"
    },
    "papermill": {
     "duration": 0.036783,
     "end_time": "2023-03-29T03:55:46.900594",
     "exception": false,
     "start_time": "2023-03-29T03:55:46.863811",
     "status": "completed"
    },
    "tags": []
   },
   "outputs": [
    {
     "name": "stdout",
     "output_type": "stream",
     "text": [
      "47.89     2\n",
      "34.97     2\n",
      "529.26    2\n",
      "128.30    2\n",
      "35.48     1\n",
      "         ..\n",
      "92.21     1\n",
      "472.91    1\n",
      "409.03    1\n",
      "31.75     1\n",
      "184.56    1\n",
      "Name: calories, Length: 891, dtype: int64\n",
      "3.46     3\n",
      "6.40     3\n",
      "9.58     3\n",
      "5.14     3\n",
      "7.73     3\n",
      "        ..\n",
      "96.03    1\n",
      "0.86     1\n",
      "11.83    1\n",
      "39.55    1\n",
      "45.21    1\n",
      "Name: carbohydrate, Length: 835, dtype: int64\n",
      "1.62    5\n",
      "1.51    5\n",
      "2.97    4\n",
      "1.27    4\n",
      "0.77    4\n",
      "       ..\n",
      "5.44    1\n",
      "1.80    1\n",
      "2.00    1\n",
      "9.00    1\n",
      "6.20    1\n",
      "Name: sugar, Length: 666, dtype: int64\n",
      "0.36      6\n",
      "0.93      4\n",
      "0.02      4\n",
      "0.04      4\n",
      "0.38      4\n",
      "         ..\n",
      "22.89     1\n",
      "169.78    1\n",
      "14.14     1\n",
      "15.08     1\n",
      "8.07      1\n",
      "Name: protein, Length: 772, dtype: int64\n",
      "Breakfast         106\n",
      "Chicken Breast     98\n",
      "Beverages          92\n",
      "Lunch/Snacks       89\n",
      "Potato             88\n",
      "Pork               84\n",
      "Vegetable          83\n",
      "Dessert            83\n",
      "Meat               79\n",
      "Chicken            74\n",
      "One Dish Meal      71\n",
      "Name: category, dtype: int64\n",
      "4               389\n",
      "6               197\n",
      "2               183\n",
      "1               175\n",
      "4 as a snack      2\n",
      "6 as a snack      1\n",
      "Name: servings, dtype: int64\n",
      "High    574\n",
      "Name: high_traffic, dtype: int64\n"
     ]
    }
   ],
   "source": [
    "# check groups within category variables\n",
    "for i in df.columns:\n",
    "    print(df[i].value_counts())"
   ]
  },
  {
   "cell_type": "code",
   "execution_count": 8,
   "id": "cd92b025",
   "metadata": {
    "execution": {
     "iopub.execute_input": "2023-03-29T03:55:46.926481Z",
     "iopub.status.busy": "2023-03-29T03:55:46.925721Z",
     "iopub.status.idle": "2023-03-29T03:55:46.941713Z",
     "shell.execute_reply": "2023-03-29T03:55:46.940641Z"
    },
    "papermill": {
     "duration": 0.030984,
     "end_time": "2023-03-29T03:55:46.943905",
     "exception": false,
     "start_time": "2023-03-29T03:55:46.912921",
     "status": "completed"
    },
    "tags": []
   },
   "outputs": [
    {
     "data": {
      "text/html": [
       "<div>\n",
       "<style scoped>\n",
       "    .dataframe tbody tr th:only-of-type {\n",
       "        vertical-align: middle;\n",
       "    }\n",
       "\n",
       "    .dataframe tbody tr th {\n",
       "        vertical-align: top;\n",
       "    }\n",
       "\n",
       "    .dataframe thead th {\n",
       "        text-align: right;\n",
       "    }\n",
       "</style>\n",
       "<table border=\"1\" class=\"dataframe\">\n",
       "  <thead>\n",
       "    <tr style=\"text-align: right;\">\n",
       "      <th></th>\n",
       "      <th>calories</th>\n",
       "      <th>carbohydrate</th>\n",
       "      <th>sugar</th>\n",
       "      <th>protein</th>\n",
       "    </tr>\n",
       "    <tr>\n",
       "      <th>recipe</th>\n",
       "      <th></th>\n",
       "      <th></th>\n",
       "      <th></th>\n",
       "      <th></th>\n",
       "    </tr>\n",
       "  </thead>\n",
       "  <tbody>\n",
       "    <tr>\n",
       "      <th>1</th>\n",
       "      <td>NaN</td>\n",
       "      <td>NaN</td>\n",
       "      <td>NaN</td>\n",
       "      <td>NaN</td>\n",
       "    </tr>\n",
       "    <tr>\n",
       "      <th>2</th>\n",
       "      <td>35.48</td>\n",
       "      <td>38.56</td>\n",
       "      <td>0.66</td>\n",
       "      <td>0.92</td>\n",
       "    </tr>\n",
       "    <tr>\n",
       "      <th>3</th>\n",
       "      <td>914.28</td>\n",
       "      <td>42.68</td>\n",
       "      <td>3.09</td>\n",
       "      <td>2.88</td>\n",
       "    </tr>\n",
       "    <tr>\n",
       "      <th>4</th>\n",
       "      <td>97.03</td>\n",
       "      <td>30.56</td>\n",
       "      <td>38.63</td>\n",
       "      <td>0.02</td>\n",
       "    </tr>\n",
       "    <tr>\n",
       "      <th>5</th>\n",
       "      <td>27.05</td>\n",
       "      <td>1.85</td>\n",
       "      <td>0.80</td>\n",
       "      <td>0.53</td>\n",
       "    </tr>\n",
       "    <tr>\n",
       "      <th>...</th>\n",
       "      <td>...</td>\n",
       "      <td>...</td>\n",
       "      <td>...</td>\n",
       "      <td>...</td>\n",
       "    </tr>\n",
       "    <tr>\n",
       "      <th>943</th>\n",
       "      <td>1161.00</td>\n",
       "      <td>5.31</td>\n",
       "      <td>22.39</td>\n",
       "      <td>44.22</td>\n",
       "    </tr>\n",
       "    <tr>\n",
       "      <th>944</th>\n",
       "      <td>NaN</td>\n",
       "      <td>NaN</td>\n",
       "      <td>NaN</td>\n",
       "      <td>NaN</td>\n",
       "    </tr>\n",
       "    <tr>\n",
       "      <th>945</th>\n",
       "      <td>951.74</td>\n",
       "      <td>29.42</td>\n",
       "      <td>3.57</td>\n",
       "      <td>13.87</td>\n",
       "    </tr>\n",
       "    <tr>\n",
       "      <th>946</th>\n",
       "      <td>266.61</td>\n",
       "      <td>35.77</td>\n",
       "      <td>0.97</td>\n",
       "      <td>8.07</td>\n",
       "    </tr>\n",
       "    <tr>\n",
       "      <th>947</th>\n",
       "      <td>184.56</td>\n",
       "      <td>45.21</td>\n",
       "      <td>6.20</td>\n",
       "      <td>0.03</td>\n",
       "    </tr>\n",
       "  </tbody>\n",
       "</table>\n",
       "<p>947 rows × 4 columns</p>\n",
       "</div>"
      ],
      "text/plain": [
       "        calories  carbohydrate  sugar  protein\n",
       "recipe                                        \n",
       "1            NaN           NaN    NaN      NaN\n",
       "2          35.48         38.56   0.66     0.92\n",
       "3         914.28         42.68   3.09     2.88\n",
       "4          97.03         30.56  38.63     0.02\n",
       "5          27.05          1.85   0.80     0.53\n",
       "...          ...           ...    ...      ...\n",
       "943      1161.00          5.31  22.39    44.22\n",
       "944          NaN           NaN    NaN      NaN\n",
       "945       951.74         29.42   3.57    13.87\n",
       "946       266.61         35.77   0.97     8.07\n",
       "947       184.56         45.21   6.20     0.03\n",
       "\n",
       "[947 rows x 4 columns]"
      ]
     },
     "execution_count": 8,
     "metadata": {},
     "output_type": "execute_result"
    }
   ],
   "source": [
    "# separate numeric columns\n",
    "numeric = df.select_dtypes(include=np.number)\n",
    "numeric"
   ]
  },
  {
   "cell_type": "code",
   "execution_count": 9,
   "id": "bddee933",
   "metadata": {
    "execution": {
     "iopub.execute_input": "2023-03-29T03:55:46.969483Z",
     "iopub.status.busy": "2023-03-29T03:55:46.969104Z",
     "iopub.status.idle": "2023-03-29T03:55:46.983423Z",
     "shell.execute_reply": "2023-03-29T03:55:46.981670Z"
    },
    "papermill": {
     "duration": 0.030161,
     "end_time": "2023-03-29T03:55:46.985650",
     "exception": false,
     "start_time": "2023-03-29T03:55:46.955489",
     "status": "completed"
    },
    "tags": []
   },
   "outputs": [
    {
     "data": {
      "text/html": [
       "<div>\n",
       "<style scoped>\n",
       "    .dataframe tbody tr th:only-of-type {\n",
       "        vertical-align: middle;\n",
       "    }\n",
       "\n",
       "    .dataframe tbody tr th {\n",
       "        vertical-align: top;\n",
       "    }\n",
       "\n",
       "    .dataframe thead th {\n",
       "        text-align: right;\n",
       "    }\n",
       "</style>\n",
       "<table border=\"1\" class=\"dataframe\">\n",
       "  <thead>\n",
       "    <tr style=\"text-align: right;\">\n",
       "      <th></th>\n",
       "      <th>category</th>\n",
       "      <th>servings</th>\n",
       "      <th>high_traffic</th>\n",
       "    </tr>\n",
       "    <tr>\n",
       "      <th>recipe</th>\n",
       "      <th></th>\n",
       "      <th></th>\n",
       "      <th></th>\n",
       "    </tr>\n",
       "  </thead>\n",
       "  <tbody>\n",
       "    <tr>\n",
       "      <th>1</th>\n",
       "      <td>Pork</td>\n",
       "      <td>6</td>\n",
       "      <td>High</td>\n",
       "    </tr>\n",
       "    <tr>\n",
       "      <th>2</th>\n",
       "      <td>Potato</td>\n",
       "      <td>4</td>\n",
       "      <td>High</td>\n",
       "    </tr>\n",
       "    <tr>\n",
       "      <th>3</th>\n",
       "      <td>Breakfast</td>\n",
       "      <td>1</td>\n",
       "      <td>NaN</td>\n",
       "    </tr>\n",
       "    <tr>\n",
       "      <th>4</th>\n",
       "      <td>Beverages</td>\n",
       "      <td>4</td>\n",
       "      <td>High</td>\n",
       "    </tr>\n",
       "    <tr>\n",
       "      <th>5</th>\n",
       "      <td>Beverages</td>\n",
       "      <td>4</td>\n",
       "      <td>NaN</td>\n",
       "    </tr>\n",
       "    <tr>\n",
       "      <th>...</th>\n",
       "      <td>...</td>\n",
       "      <td>...</td>\n",
       "      <td>...</td>\n",
       "    </tr>\n",
       "    <tr>\n",
       "      <th>943</th>\n",
       "      <td>Lunch/Snacks</td>\n",
       "      <td>2</td>\n",
       "      <td>NaN</td>\n",
       "    </tr>\n",
       "    <tr>\n",
       "      <th>944</th>\n",
       "      <td>Potato</td>\n",
       "      <td>2</td>\n",
       "      <td>High</td>\n",
       "    </tr>\n",
       "    <tr>\n",
       "      <th>945</th>\n",
       "      <td>Pork</td>\n",
       "      <td>2</td>\n",
       "      <td>High</td>\n",
       "    </tr>\n",
       "    <tr>\n",
       "      <th>946</th>\n",
       "      <td>Potato</td>\n",
       "      <td>6</td>\n",
       "      <td>High</td>\n",
       "    </tr>\n",
       "    <tr>\n",
       "      <th>947</th>\n",
       "      <td>Beverages</td>\n",
       "      <td>4</td>\n",
       "      <td>NaN</td>\n",
       "    </tr>\n",
       "  </tbody>\n",
       "</table>\n",
       "<p>947 rows × 3 columns</p>\n",
       "</div>"
      ],
      "text/plain": [
       "            category servings high_traffic\n",
       "recipe                                    \n",
       "1               Pork        6         High\n",
       "2             Potato        4         High\n",
       "3          Breakfast        1          NaN\n",
       "4          Beverages        4         High\n",
       "5          Beverages        4          NaN\n",
       "...              ...      ...          ...\n",
       "943     Lunch/Snacks        2          NaN\n",
       "944           Potato        2         High\n",
       "945             Pork        2         High\n",
       "946           Potato        6         High\n",
       "947        Beverages        4          NaN\n",
       "\n",
       "[947 rows x 3 columns]"
      ]
     },
     "execution_count": 9,
     "metadata": {},
     "output_type": "execute_result"
    }
   ],
   "source": [
    "# separate non_numeric columns\n",
    "non_numeric = df.select_dtypes(include='object')\n",
    "non_numeric"
   ]
  },
  {
   "cell_type": "code",
   "execution_count": 10,
   "id": "48242b85",
   "metadata": {
    "execution": {
     "iopub.execute_input": "2023-03-29T03:55:47.012649Z",
     "iopub.status.busy": "2023-03-29T03:55:47.012255Z",
     "iopub.status.idle": "2023-03-29T03:55:47.041451Z",
     "shell.execute_reply": "2023-03-29T03:55:47.039465Z"
    },
    "papermill": {
     "duration": 0.046467,
     "end_time": "2023-03-29T03:55:47.044493",
     "exception": false,
     "start_time": "2023-03-29T03:55:46.998026",
     "status": "completed"
    },
    "tags": []
   },
   "outputs": [
    {
     "name": "stdout",
     "output_type": "stream",
     "text": [
      "<class 'pandas.core.frame.DataFrame'>\n",
      "Int64Index: 895 entries, 2 to 947\n",
      "Data columns (total 7 columns):\n",
      " #   Column        Non-Null Count  Dtype  \n",
      "---  ------        --------------  -----  \n",
      " 0   calories      895 non-null    float64\n",
      " 1   carbohydrate  895 non-null    float64\n",
      " 2   sugar         895 non-null    float64\n",
      " 3   protein       895 non-null    float64\n",
      " 4   category      895 non-null    object \n",
      " 5   servings      895 non-null    float64\n",
      " 6   high_traffic  895 non-null    object \n",
      "dtypes: float64(5), object(2)\n",
      "memory usage: 55.9+ KB\n"
     ]
    }
   ],
   "source": [
    "# run preprocessing\n",
    "def preprocessing(df):\n",
    "    df = df.dropna(how='all')\n",
    "    df['servings'] = df['servings'].str.replace(' as a snack', '')\n",
    "    df['high_traffic'] = df['high_traffic'].fillna('Not_High')\n",
    "#     imputer = KNNImputer(n_neighbors=3)\n",
    "#     imputed_data = imputer.fit_transform(df[['calories', 'carbohydrate', 'sugar', 'protein']])\n",
    "#     df[['calories', 'carbohydrate', 'sugar', 'protein']] = pd.DataFrame(imputed_data, columns=df[['calories', 'carbohydrate', 'sugar', 'protein']].columns)\n",
    "    df['servings'] = df['servings'].astype('float64')\n",
    "    df = df.dropna()\n",
    "    df['category'] = df['category'].replace('Chicken Breast', 'Chicken')\n",
    "    return df\n",
    "\n",
    "df = preprocessing(df)\n",
    "df.info()"
   ]
  },
  {
   "cell_type": "code",
   "execution_count": 11,
   "id": "300596b2",
   "metadata": {
    "execution": {
     "iopub.execute_input": "2023-03-29T03:55:47.072223Z",
     "iopub.status.busy": "2023-03-29T03:55:47.071797Z",
     "iopub.status.idle": "2023-03-29T03:55:47.087490Z",
     "shell.execute_reply": "2023-03-29T03:55:47.086142Z"
    },
    "papermill": {
     "duration": 0.033776,
     "end_time": "2023-03-29T03:55:47.090408",
     "exception": false,
     "start_time": "2023-03-29T03:55:47.056632",
     "status": "completed"
    },
    "tags": []
   },
   "outputs": [
    {
     "name": "stdout",
     "output_type": "stream",
     "text": [
      "47.89     2\n",
      "34.97     2\n",
      "529.26    2\n",
      "128.30    2\n",
      "35.48     1\n",
      "         ..\n",
      "92.21     1\n",
      "472.91    1\n",
      "409.03    1\n",
      "31.75     1\n",
      "184.56    1\n",
      "Name: calories, Length: 891, dtype: int64\n",
      "3.46     3\n",
      "6.40     3\n",
      "9.58     3\n",
      "5.14     3\n",
      "7.73     3\n",
      "        ..\n",
      "96.03    1\n",
      "0.86     1\n",
      "11.83    1\n",
      "39.55    1\n",
      "45.21    1\n",
      "Name: carbohydrate, Length: 835, dtype: int64\n",
      "1.62    5\n",
      "1.51    5\n",
      "2.97    4\n",
      "1.27    4\n",
      "0.77    4\n",
      "       ..\n",
      "5.44    1\n",
      "1.80    1\n",
      "2.00    1\n",
      "9.00    1\n",
      "6.20    1\n",
      "Name: sugar, Length: 666, dtype: int64\n",
      "0.36      6\n",
      "0.93      4\n",
      "0.02      4\n",
      "0.04      4\n",
      "0.38      4\n",
      "         ..\n",
      "22.89     1\n",
      "169.78    1\n",
      "14.14     1\n",
      "15.08     1\n",
      "8.07      1\n",
      "Name: protein, Length: 772, dtype: int64\n",
      "Chicken          163\n",
      "Breakfast        106\n",
      "Beverages         92\n",
      "Potato            83\n",
      "Lunch/Snacks      82\n",
      "Vegetable         78\n",
      "Dessert           77\n",
      "Meat              74\n",
      "Pork              73\n",
      "One Dish Meal     67\n",
      "Name: category, dtype: int64\n",
      "4.0    367\n",
      "6.0    185\n",
      "2.0    174\n",
      "1.0    169\n",
      "Name: servings, dtype: int64\n",
      "High        535\n",
      "Not_High    360\n",
      "Name: high_traffic, dtype: int64\n"
     ]
    }
   ],
   "source": [
    "# check data again\n",
    "for i in df.columns:\n",
    "    print(df[i].value_counts())"
   ]
  },
  {
   "cell_type": "code",
   "execution_count": 12,
   "id": "b8ffe654",
   "metadata": {
    "execution": {
     "iopub.execute_input": "2023-03-29T03:55:47.116786Z",
     "iopub.status.busy": "2023-03-29T03:55:47.116440Z",
     "iopub.status.idle": "2023-03-29T03:55:48.207193Z",
     "shell.execute_reply": "2023-03-29T03:55:48.205861Z"
    },
    "papermill": {
     "duration": 1.108156,
     "end_time": "2023-03-29T03:55:48.210164",
     "exception": false,
     "start_time": "2023-03-29T03:55:47.102008",
     "status": "completed"
    },
    "tags": []
   },
   "outputs": [
    {
     "data": {
      "image/png": "[encoded data removed]",
      "text/plain": [
       "<Figure size 640x480 with 1 Axes>"
      ]
     },
     "metadata": {},
     "output_type": "display_data"
    },
    {
     "data": {
      "image/png": "[encoded data removed]",
      "text/plain": [
       "<Figure size 640x480 with 1 Axes>"
      ]
     },
     "metadata": {},
     "output_type": "display_data"
    },
    {
     "data": {
      "image/png": "[encoded data removed]",
      "text/plain": [
       "<Figure size 640x480 with 1 Axes>"
      ]
     },
     "metadata": {},
     "output_type": "display_data"
    },
    {
     "data": {
      "image/png": "[encoded data removed]",
      "text/plain": [
       "<Figure size 640x480 with 1 Axes>"
      ]
     },
     "metadata": {},
     "output_type": "display_data"
    }
   ],
   "source": [
    "# build histplots for numeric variables\n",
    "for i in numeric.columns:\n",
    "    plt.title('Histogram %s'%i)\n",
    "    plt.figsize=(15,15)\n",
    "    sns.histplot(df[i])\n",
    "    plt.show()"
   ]
  },
  {
   "cell_type": "code",
   "execution_count": 13,
   "id": "b72f13ce",
   "metadata": {
    "execution": {
     "iopub.execute_input": "2023-03-29T03:55:48.239985Z",
     "iopub.status.busy": "2023-03-29T03:55:48.239412Z",
     "iopub.status.idle": "2023-03-29T03:55:48.452507Z",
     "shell.execute_reply": "2023-03-29T03:55:48.451739Z"
    },
    "papermill": {
     "duration": 0.229956,
     "end_time": "2023-03-29T03:55:48.454616",
     "exception": false,
     "start_time": "2023-03-29T03:55:48.224660",
     "status": "completed"
    },
    "tags": []
   },
   "outputs": [
    {
     "data": {
      "text/plain": [
       "<AxesSubplot:title={'center':'Count plot (category)'}, xlabel='category', ylabel='count'>"
      ]
     },
     "execution_count": 13,
     "metadata": {},
     "output_type": "execute_result"
    },
    {
     "data": {
      "image/png": "[encoded data removed]",
      "text/plain": [
       "<Figure size 640x480 with 1 Axes>"
      ]
     },
     "metadata": {},
     "output_type": "display_data"
    }
   ],
   "source": [
    "# check number of the categories\n",
    "plt.title('Count plot (category)')\n",
    "plt.figsize=(15,15)\n",
    "plt.xticks(rotation=45)\n",
    "sns.countplot(x=df['category'])"
   ]
  },
  {
   "cell_type": "code",
   "execution_count": 14,
   "id": "3e6911c4",
   "metadata": {
    "execution": {
     "iopub.execute_input": "2023-03-29T03:55:48.485149Z",
     "iopub.status.busy": "2023-03-29T03:55:48.484485Z",
     "iopub.status.idle": "2023-03-29T03:55:48.909900Z",
     "shell.execute_reply": "2023-03-29T03:55:48.908658Z"
    },
    "papermill": {
     "duration": 0.443563,
     "end_time": "2023-03-29T03:55:48.912518",
     "exception": false,
     "start_time": "2023-03-29T03:55:48.468955",
     "status": "completed"
    },
    "tags": []
   },
   "outputs": [
    {
     "data": {
      "text/plain": [
       "<AxesSubplot:title={'center':'Calories per category'}, xlabel='category', ylabel='calories'>"
      ]
     },
     "execution_count": 14,
     "metadata": {},
     "output_type": "execute_result"
    },
    {
     "data": {
      "image/png": "[encoded data removed]",
      "text/plain": [
       "<Figure size 640x480 with 1 Axes>"
      ]
     },
     "metadata": {},
     "output_type": "display_data"
    }
   ],
   "source": [
    "# check if categories and calories make sense\n",
    "plt.title('Calories per category')\n",
    "plt.figsize=(15,15)\n",
    "plt.xticks(rotation=45)\n",
    "sns.boxplot(x=df['category'], y=df['calories'])"
   ]
  },
  {
   "cell_type": "code",
   "execution_count": 15,
   "id": "a3287d81",
   "metadata": {
    "execution": {
     "iopub.execute_input": "2023-03-29T03:55:48.944380Z",
     "iopub.status.busy": "2023-03-29T03:55:48.943688Z",
     "iopub.status.idle": "2023-03-29T03:55:49.340011Z",
     "shell.execute_reply": "2023-03-29T03:55:49.339226Z"
    },
    "papermill": {
     "duration": 0.415385,
     "end_time": "2023-03-29T03:55:49.342582",
     "exception": false,
     "start_time": "2023-03-29T03:55:48.927197",
     "status": "completed"
    },
    "tags": []
   },
   "outputs": [
    {
     "data": {
      "text/plain": [
       "<AxesSubplot:title={'center':'Servings per category'}, xlabel='category', ylabel='servings'>"
      ]
     },
     "execution_count": 15,
     "metadata": {},
     "output_type": "execute_result"
    },
    {
     "data": {
      "image/png": "[encoded data removed]",
      "text/plain": [
       "<Figure size 640x480 with 1 Axes>"
      ]
     },
     "metadata": {},
     "output_type": "display_data"
    }
   ],
   "source": [
    "# check servings just for general view\n",
    "plt.title('Servings per category')\n",
    "plt.figsize=(15,15)\n",
    "plt.xticks(rotation=45)\n",
    "sns.barplot(x=df['category'], y=df['servings'])"
   ]
  },
  {
   "cell_type": "code",
   "execution_count": 16,
   "id": "b96c63d3",
   "metadata": {
    "execution": {
     "iopub.execute_input": "2023-03-29T03:55:49.375673Z",
     "iopub.status.busy": "2023-03-29T03:55:49.374988Z",
     "iopub.status.idle": "2023-03-29T03:55:49.651105Z",
     "shell.execute_reply": "2023-03-29T03:55:49.649959Z"
    },
    "papermill": {
     "duration": 0.295188,
     "end_time": "2023-03-29T03:55:49.653191",
     "exception": false,
     "start_time": "2023-03-29T03:55:49.358003",
     "status": "completed"
    },
    "tags": []
   },
   "outputs": [
    {
     "data": {
      "text/plain": [
       "<AxesSubplot:title={'center':'Count plot category by traffic'}, xlabel='category', ylabel='count'>"
      ]
     },
     "execution_count": 16,
     "metadata": {},
     "output_type": "execute_result"
    },
    {
     "data": {
      "image/png": "[encoded data removed]",
      "text/plain": [
       "<Figure size 640x480 with 1 Axes>"
      ]
     },
     "metadata": {},
     "output_type": "display_data"
    }
   ],
   "source": [
    "# get countplot to check relationship between high traffic and category\n",
    "plt.title('Count plot category by traffic')\n",
    "plt.figsize=(15,15)\n",
    "plt.xticks(rotation=45)\n",
    "sns.countplot(x=df['category'].sort_values(ascending=False), hue =df['high_traffic'])"
   ]
  },
  {
   "cell_type": "code",
   "execution_count": 17,
   "id": "5cac5818",
   "metadata": {
    "execution": {
     "iopub.execute_input": "2023-03-29T03:55:49.688003Z",
     "iopub.status.busy": "2023-03-29T03:55:49.687576Z",
     "iopub.status.idle": "2023-03-29T03:55:49.848967Z",
     "shell.execute_reply": "2023-03-29T03:55:49.848160Z"
    },
    "papermill": {
     "duration": 0.181165,
     "end_time": "2023-03-29T03:55:49.851044",
     "exception": false,
     "start_time": "2023-03-29T03:55:49.669879",
     "status": "completed"
    },
    "tags": []
   },
   "outputs": [
    {
     "data": {
      "text/plain": [
       "<AxesSubplot:title={'center':'Check number of high vs not high traffic'}, xlabel='high_traffic', ylabel='count'>"
      ]
     },
     "execution_count": 17,
     "metadata": {},
     "output_type": "execute_result"
    },
    {
     "data": {
      "image/png": "[encoded data removed]",
      "text/plain": [
       "<Figure size 640x480 with 1 Axes>"
      ]
     },
     "metadata": {},
     "output_type": "display_data"
    }
   ],
   "source": [
    "# check number of high traffic\n",
    "plt.title('Check number of high vs not high traffic')\n",
    "plt.figsize=(15,15)\n",
    "plt.xticks(rotation=45)\n",
    "sns.countplot(x=df['high_traffic'])"
   ]
  },
  {
   "cell_type": "code",
   "execution_count": 18,
   "id": "a889f4cd",
   "metadata": {
    "execution": {
     "iopub.execute_input": "2023-03-29T03:55:49.887164Z",
     "iopub.status.busy": "2023-03-29T03:55:49.885829Z",
     "iopub.status.idle": "2023-03-29T03:55:49.895582Z",
     "shell.execute_reply": "2023-03-29T03:55:49.894445Z"
    },
    "papermill": {
     "duration": 0.030012,
     "end_time": "2023-03-29T03:55:49.898006",
     "exception": false,
     "start_time": "2023-03-29T03:55:49.867994",
     "status": "completed"
    },
    "tags": []
   },
   "outputs": [
    {
     "data": {
      "text/plain": [
       "High        0.597765\n",
       "Not_High    0.402235\n",
       "Name: high_traffic, dtype: float64"
      ]
     },
     "execution_count": 18,
     "metadata": {},
     "output_type": "execute_result"
    }
   ],
   "source": [
    "# in %\n",
    "df['high_traffic'].value_counts(normalize=True)"
   ]
  },
  {
   "cell_type": "code",
   "execution_count": 19,
   "id": "4183d510",
   "metadata": {
    "execution": {
     "iopub.execute_input": "2023-03-29T03:55:49.934756Z",
     "iopub.status.busy": "2023-03-29T03:55:49.934348Z",
     "iopub.status.idle": "2023-03-29T03:55:50.141695Z",
     "shell.execute_reply": "2023-03-29T03:55:50.140407Z"
    },
    "papermill": {
     "duration": 0.229251,
     "end_time": "2023-03-29T03:55:50.144676",
     "exception": false,
     "start_time": "2023-03-29T03:55:49.915425",
     "status": "completed"
    },
    "tags": []
   },
   "outputs": [
    {
     "data": {
      "text/plain": [
       "<AxesSubplot:title={'center':'Check number of high vs not high traffic by servings'}, xlabel='high_traffic', ylabel='count'>"
      ]
     },
     "execution_count": 19,
     "metadata": {},
     "output_type": "execute_result"
    },
    {
     "data": {
      "image/png": "[encoded data removed]",
      "text/plain": [
       "<Figure size 640x480 with 1 Axes>"
      ]
     },
     "metadata": {},
     "output_type": "display_data"
    }
   ],
   "source": [
    "# check number of high vs not high traffic by servings\n",
    "plt.title('Check number of high vs not high traffic by servings')\n",
    "plt.figsize=(15,15)\n",
    "plt.xticks(rotation=45)\n",
    "sns.countplot(x=df['high_traffic'], hue = df['servings'] )"
   ]
  },
  {
   "cell_type": "code",
   "execution_count": 20,
   "id": "a83c56be",
   "metadata": {
    "execution": {
     "iopub.execute_input": "2023-03-29T03:55:50.181501Z",
     "iopub.status.busy": "2023-03-29T03:55:50.180180Z",
     "iopub.status.idle": "2023-03-29T03:55:50.360626Z",
     "shell.execute_reply": "2023-03-29T03:55:50.359793Z"
    },
    "papermill": {
     "duration": 0.200769,
     "end_time": "2023-03-29T03:55:50.362764",
     "exception": false,
     "start_time": "2023-03-29T03:55:50.161995",
     "status": "completed"
    },
    "tags": []
   },
   "outputs": [
    {
     "data": {
      "image/png": "[encoded data removed]",
      "text/plain": [
       "<Figure size 640x480 with 1 Axes>"
      ]
     },
     "metadata": {},
     "output_type": "display_data"
    }
   ],
   "source": [
    "# check mean values igh vs not high traffic\n",
    "plt.title('Barplots servings')\n",
    "plt.figsize=(15,15)\n",
    "sns.barplot(y=df['servings'], x=df['high_traffic'])\n",
    "plt.show()"
   ]
  },
  {
   "cell_type": "code",
   "execution_count": 21,
   "id": "8fda8d12",
   "metadata": {
    "execution": {
     "iopub.execute_input": "2023-03-29T03:55:50.404710Z",
     "iopub.status.busy": "2023-03-29T03:55:50.404064Z",
     "iopub.status.idle": "2023-03-29T03:55:51.082283Z",
     "shell.execute_reply": "2023-03-29T03:55:51.081273Z"
    },
    "papermill": {
     "duration": 0.698976,
     "end_time": "2023-03-29T03:55:51.084625",
     "exception": false,
     "start_time": "2023-03-29T03:55:50.385649",
     "status": "completed"
    },
    "tags": []
   },
   "outputs": [
    {
     "data": {
      "image/png": "[encoded data removed]",
      "text/plain": [
       "<Figure size 640x480 with 1 Axes>"
      ]
     },
     "metadata": {},
     "output_type": "display_data"
    },
    {
     "data": {
      "image/png": "[encoded data removed]",
      "text/plain": [
       "<Figure size 640x480 with 1 Axes>"
      ]
     },
     "metadata": {},
     "output_type": "display_data"
    },
    {
     "data": {
      "image/png": "[encoded data removed]",
      "text/plain": [
       "<Figure size 640x480 with 1 Axes>"
      ]
     },
     "metadata": {},
     "output_type": "display_data"
    },
    {
     "data": {
      "image/png": "[encoded data removed]",
      "text/plain": [
       "<Figure size 640x480 with 1 Axes>"
      ]
     },
     "metadata": {},
     "output_type": "display_data"
    }
   ],
   "source": [
    "# plot high traffic against numeric variables\n",
    "for i in numeric.columns:\n",
    "    plt.title('Barplot %s'%i)\n",
    "    plt.figsize=(15,15)\n",
    "    sns.barplot(y=df[i], x=df['high_traffic'])\n",
    "    plt.show()"
   ]
  },
  {
   "cell_type": "code",
   "execution_count": 22,
   "id": "47d1e8df",
   "metadata": {
    "execution": {
     "iopub.execute_input": "2023-03-29T03:55:51.134970Z",
     "iopub.status.busy": "2023-03-29T03:55:51.134326Z",
     "iopub.status.idle": "2023-03-29T03:55:51.145817Z",
     "shell.execute_reply": "2023-03-29T03:55:51.144532Z"
    },
    "papermill": {
     "duration": 0.037269,
     "end_time": "2023-03-29T03:55:51.148890",
     "exception": false,
     "start_time": "2023-03-29T03:55:51.111621",
     "status": "completed"
    },
    "tags": []
   },
   "outputs": [
    {
     "name": "stdout",
     "output_type": "stream",
     "text": [
      "<class 'pandas.core.frame.DataFrame'>\n",
      "Int64Index: 895 entries, 2 to 947\n",
      "Data columns (total 7 columns):\n",
      " #   Column        Non-Null Count  Dtype  \n",
      "---  ------        --------------  -----  \n",
      " 0   calories      895 non-null    float64\n",
      " 1   carbohydrate  895 non-null    float64\n",
      " 2   sugar         895 non-null    float64\n",
      " 3   protein       895 non-null    float64\n",
      " 4   category      895 non-null    object \n",
      " 5   servings      895 non-null    float64\n",
      " 6   high_traffic  895 non-null    object \n",
      "dtypes: float64(5), object(2)\n",
      "memory usage: 88.2+ KB\n"
     ]
    }
   ],
   "source": [
    "# check df again\n",
    "df.info()"
   ]
  },
  {
   "cell_type": "code",
   "execution_count": 23,
   "id": "04081b38",
   "metadata": {
    "execution": {
     "iopub.execute_input": "2023-03-29T03:55:51.193424Z",
     "iopub.status.busy": "2023-03-29T03:55:51.192970Z",
     "iopub.status.idle": "2023-03-29T03:55:51.210355Z",
     "shell.execute_reply": "2023-03-29T03:55:51.208210Z"
    },
    "papermill": {
     "duration": 0.049572,
     "end_time": "2023-03-29T03:55:51.218251",
     "exception": false,
     "start_time": "2023-03-29T03:55:51.168679",
     "status": "completed"
    },
    "tags": []
   },
   "outputs": [
    {
     "data": {
      "text/html": [
       "<div>\n",
       "<style scoped>\n",
       "    .dataframe tbody tr th:only-of-type {\n",
       "        vertical-align: middle;\n",
       "    }\n",
       "\n",
       "    .dataframe tbody tr th {\n",
       "        vertical-align: top;\n",
       "    }\n",
       "\n",
       "    .dataframe thead th {\n",
       "        text-align: right;\n",
       "    }\n",
       "</style>\n",
       "<table border=\"1\" class=\"dataframe\">\n",
       "  <thead>\n",
       "    <tr style=\"text-align: right;\">\n",
       "      <th></th>\n",
       "      <th>calories</th>\n",
       "      <th>carbohydrate</th>\n",
       "      <th>sugar</th>\n",
       "      <th>protein</th>\n",
       "      <th>category</th>\n",
       "      <th>servings</th>\n",
       "      <th>high_traffic</th>\n",
       "    </tr>\n",
       "    <tr>\n",
       "      <th>recipe</th>\n",
       "      <th></th>\n",
       "      <th></th>\n",
       "      <th></th>\n",
       "      <th></th>\n",
       "      <th></th>\n",
       "      <th></th>\n",
       "      <th></th>\n",
       "    </tr>\n",
       "  </thead>\n",
       "  <tbody>\n",
       "    <tr>\n",
       "      <th>2</th>\n",
       "      <td>35.48</td>\n",
       "      <td>38.56</td>\n",
       "      <td>0.66</td>\n",
       "      <td>0.92</td>\n",
       "      <td>Potato</td>\n",
       "      <td>4.0</td>\n",
       "      <td>High</td>\n",
       "    </tr>\n",
       "    <tr>\n",
       "      <th>3</th>\n",
       "      <td>914.28</td>\n",
       "      <td>42.68</td>\n",
       "      <td>3.09</td>\n",
       "      <td>2.88</td>\n",
       "      <td>Breakfast</td>\n",
       "      <td>1.0</td>\n",
       "      <td>Not_High</td>\n",
       "    </tr>\n",
       "    <tr>\n",
       "      <th>4</th>\n",
       "      <td>97.03</td>\n",
       "      <td>30.56</td>\n",
       "      <td>38.63</td>\n",
       "      <td>0.02</td>\n",
       "      <td>Beverages</td>\n",
       "      <td>4.0</td>\n",
       "      <td>High</td>\n",
       "    </tr>\n",
       "    <tr>\n",
       "      <th>5</th>\n",
       "      <td>27.05</td>\n",
       "      <td>1.85</td>\n",
       "      <td>0.80</td>\n",
       "      <td>0.53</td>\n",
       "      <td>Beverages</td>\n",
       "      <td>4.0</td>\n",
       "      <td>Not_High</td>\n",
       "    </tr>\n",
       "    <tr>\n",
       "      <th>6</th>\n",
       "      <td>691.15</td>\n",
       "      <td>3.46</td>\n",
       "      <td>1.65</td>\n",
       "      <td>53.93</td>\n",
       "      <td>One Dish Meal</td>\n",
       "      <td>2.0</td>\n",
       "      <td>High</td>\n",
       "    </tr>\n",
       "  </tbody>\n",
       "</table>\n",
       "</div>"
      ],
      "text/plain": [
       "        calories  carbohydrate  sugar  protein       category  servings  \\\n",
       "recipe                                                                    \n",
       "2          35.48         38.56   0.66     0.92         Potato       4.0   \n",
       "3         914.28         42.68   3.09     2.88      Breakfast       1.0   \n",
       "4          97.03         30.56  38.63     0.02      Beverages       4.0   \n",
       "5          27.05          1.85   0.80     0.53      Beverages       4.0   \n",
       "6         691.15          3.46   1.65    53.93  One Dish Meal       2.0   \n",
       "\n",
       "       high_traffic  \n",
       "recipe               \n",
       "2              High  \n",
       "3          Not_High  \n",
       "4              High  \n",
       "5          Not_High  \n",
       "6              High  "
      ]
     },
     "execution_count": 23,
     "metadata": {},
     "output_type": "execute_result"
    }
   ],
   "source": [
    "# check head again\n",
    "df.head()"
   ]
  },
  {
   "cell_type": "code",
   "execution_count": 24,
   "id": "400846af",
   "metadata": {
    "execution": {
     "iopub.execute_input": "2023-03-29T03:55:51.259867Z",
     "iopub.status.busy": "2023-03-29T03:55:51.259487Z",
     "iopub.status.idle": "2023-03-29T03:55:51.312466Z",
     "shell.execute_reply": "2023-03-29T03:55:51.311011Z"
    },
    "papermill": {
     "duration": 0.077629,
     "end_time": "2023-03-29T03:55:51.315955",
     "exception": false,
     "start_time": "2023-03-29T03:55:51.238326",
     "status": "completed"
    },
    "tags": []
   },
   "outputs": [
    {
     "name": "stdout",
     "output_type": "stream",
     "text": [
      "<class 'pandas.core.frame.DataFrame'>\n",
      "Int64Index: 895 entries, 2 to 947\n",
      "Data columns (total 16 columns):\n",
      " #   Column                  Non-Null Count  Dtype  \n",
      "---  ------                  --------------  -----  \n",
      " 0   calories                895 non-null    float64\n",
      " 1   carbohydrate            895 non-null    float64\n",
      " 2   sugar                   895 non-null    float64\n",
      " 3   protein                 895 non-null    float64\n",
      " 4   servings                895 non-null    float64\n",
      " 5   high_traffic            895 non-null    int64  \n",
      " 6   category_Beverages      895 non-null    float64\n",
      " 7   category_Breakfast      895 non-null    float64\n",
      " 8   category_Chicken        895 non-null    float64\n",
      " 9   category_Dessert        895 non-null    float64\n",
      " 10  category_Lunch/Snacks   895 non-null    float64\n",
      " 11  category_Meat           895 non-null    float64\n",
      " 12  category_One Dish Meal  895 non-null    float64\n",
      " 13  category_Pork           895 non-null    float64\n",
      " 14  category_Potato         895 non-null    float64\n",
      " 15  category_Vegetable      895 non-null    float64\n",
      "dtypes: float64(15), int64(1)\n",
      "memory usage: 118.9 KB\n"
     ]
    },
    {
     "data": {
      "text/html": [
       "<div>\n",
       "<style scoped>\n",
       "    .dataframe tbody tr th:only-of-type {\n",
       "        vertical-align: middle;\n",
       "    }\n",
       "\n",
       "    .dataframe tbody tr th {\n",
       "        vertical-align: top;\n",
       "    }\n",
       "\n",
       "    .dataframe thead th {\n",
       "        text-align: right;\n",
       "    }\n",
       "</style>\n",
       "<table border=\"1\" class=\"dataframe\">\n",
       "  <thead>\n",
       "    <tr style=\"text-align: right;\">\n",
       "      <th></th>\n",
       "      <th>calories</th>\n",
       "      <th>carbohydrate</th>\n",
       "      <th>sugar</th>\n",
       "      <th>protein</th>\n",
       "      <th>servings</th>\n",
       "      <th>high_traffic</th>\n",
       "      <th>category_Beverages</th>\n",
       "      <th>category_Breakfast</th>\n",
       "      <th>category_Chicken</th>\n",
       "      <th>category_Dessert</th>\n",
       "      <th>category_Lunch/Snacks</th>\n",
       "      <th>category_Meat</th>\n",
       "      <th>category_One Dish Meal</th>\n",
       "      <th>category_Pork</th>\n",
       "      <th>category_Potato</th>\n",
       "      <th>category_Vegetable</th>\n",
       "    </tr>\n",
       "    <tr>\n",
       "      <th>recipe</th>\n",
       "      <th></th>\n",
       "      <th></th>\n",
       "      <th></th>\n",
       "      <th></th>\n",
       "      <th></th>\n",
       "      <th></th>\n",
       "      <th></th>\n",
       "      <th></th>\n",
       "      <th></th>\n",
       "      <th></th>\n",
       "      <th></th>\n",
       "      <th></th>\n",
       "      <th></th>\n",
       "      <th></th>\n",
       "      <th></th>\n",
       "      <th></th>\n",
       "    </tr>\n",
       "  </thead>\n",
       "  <tbody>\n",
       "    <tr>\n",
       "      <th>2</th>\n",
       "      <td>35.48</td>\n",
       "      <td>38.56</td>\n",
       "      <td>0.66</td>\n",
       "      <td>0.92</td>\n",
       "      <td>4.0</td>\n",
       "      <td>1</td>\n",
       "      <td>0.0</td>\n",
       "      <td>0.0</td>\n",
       "      <td>0.0</td>\n",
       "      <td>0.0</td>\n",
       "      <td>0.0</td>\n",
       "      <td>0.0</td>\n",
       "      <td>0.0</td>\n",
       "      <td>0.0</td>\n",
       "      <td>1.0</td>\n",
       "      <td>0.0</td>\n",
       "    </tr>\n",
       "    <tr>\n",
       "      <th>3</th>\n",
       "      <td>914.28</td>\n",
       "      <td>42.68</td>\n",
       "      <td>3.09</td>\n",
       "      <td>2.88</td>\n",
       "      <td>1.0</td>\n",
       "      <td>0</td>\n",
       "      <td>0.0</td>\n",
       "      <td>1.0</td>\n",
       "      <td>0.0</td>\n",
       "      <td>0.0</td>\n",
       "      <td>0.0</td>\n",
       "      <td>0.0</td>\n",
       "      <td>0.0</td>\n",
       "      <td>0.0</td>\n",
       "      <td>0.0</td>\n",
       "      <td>0.0</td>\n",
       "    </tr>\n",
       "    <tr>\n",
       "      <th>4</th>\n",
       "      <td>97.03</td>\n",
       "      <td>30.56</td>\n",
       "      <td>38.63</td>\n",
       "      <td>0.02</td>\n",
       "      <td>4.0</td>\n",
       "      <td>1</td>\n",
       "      <td>1.0</td>\n",
       "      <td>0.0</td>\n",
       "      <td>0.0</td>\n",
       "      <td>0.0</td>\n",
       "      <td>0.0</td>\n",
       "      <td>0.0</td>\n",
       "      <td>0.0</td>\n",
       "      <td>0.0</td>\n",
       "      <td>0.0</td>\n",
       "      <td>0.0</td>\n",
       "    </tr>\n",
       "    <tr>\n",
       "      <th>5</th>\n",
       "      <td>27.05</td>\n",
       "      <td>1.85</td>\n",
       "      <td>0.80</td>\n",
       "      <td>0.53</td>\n",
       "      <td>4.0</td>\n",
       "      <td>0</td>\n",
       "      <td>1.0</td>\n",
       "      <td>0.0</td>\n",
       "      <td>0.0</td>\n",
       "      <td>0.0</td>\n",
       "      <td>0.0</td>\n",
       "      <td>0.0</td>\n",
       "      <td>0.0</td>\n",
       "      <td>0.0</td>\n",
       "      <td>0.0</td>\n",
       "      <td>0.0</td>\n",
       "    </tr>\n",
       "    <tr>\n",
       "      <th>6</th>\n",
       "      <td>691.15</td>\n",
       "      <td>3.46</td>\n",
       "      <td>1.65</td>\n",
       "      <td>53.93</td>\n",
       "      <td>2.0</td>\n",
       "      <td>1</td>\n",
       "      <td>0.0</td>\n",
       "      <td>0.0</td>\n",
       "      <td>0.0</td>\n",
       "      <td>0.0</td>\n",
       "      <td>0.0</td>\n",
       "      <td>0.0</td>\n",
       "      <td>1.0</td>\n",
       "      <td>0.0</td>\n",
       "      <td>0.0</td>\n",
       "      <td>0.0</td>\n",
       "    </tr>\n",
       "  </tbody>\n",
       "</table>\n",
       "</div>"
      ],
      "text/plain": [
       "        calories  carbohydrate  sugar  protein  servings  high_traffic  \\\n",
       "recipe                                                                   \n",
       "2          35.48         38.56   0.66     0.92       4.0             1   \n",
       "3         914.28         42.68   3.09     2.88       1.0             0   \n",
       "4          97.03         30.56  38.63     0.02       4.0             1   \n",
       "5          27.05          1.85   0.80     0.53       4.0             0   \n",
       "6         691.15          3.46   1.65    53.93       2.0             1   \n",
       "\n",
       "        category_Beverages  category_Breakfast  category_Chicken  \\\n",
       "recipe                                                             \n",
       "2                      0.0                 0.0               0.0   \n",
       "3                      0.0                 1.0               0.0   \n",
       "4                      1.0                 0.0               0.0   \n",
       "5                      1.0                 0.0               0.0   \n",
       "6                      0.0                 0.0               0.0   \n",
       "\n",
       "        category_Dessert  category_Lunch/Snacks  category_Meat  \\\n",
       "recipe                                                           \n",
       "2                    0.0                    0.0            0.0   \n",
       "3                    0.0                    0.0            0.0   \n",
       "4                    0.0                    0.0            0.0   \n",
       "5                    0.0                    0.0            0.0   \n",
       "6                    0.0                    0.0            0.0   \n",
       "\n",
       "        category_One Dish Meal  category_Pork  category_Potato  \\\n",
       "recipe                                                           \n",
       "2                          0.0            0.0              1.0   \n",
       "3                          0.0            0.0              0.0   \n",
       "4                          0.0            0.0              0.0   \n",
       "5                          0.0            0.0              0.0   \n",
       "6                          1.0            0.0              0.0   \n",
       "\n",
       "        category_Vegetable  \n",
       "recipe                      \n",
       "2                      0.0  \n",
       "3                      0.0  \n",
       "4                      0.0  \n",
       "5                      0.0  \n",
       "6                      0.0  "
      ]
     },
     "execution_count": 24,
     "metadata": {},
     "output_type": "execute_result"
    }
   ],
   "source": [
    "# run post processing\n",
    "def post_processing(df):\n",
    "#     le = LabelEncoder()\n",
    "#     le.fit(df['category'])\n",
    "#     print(le.classes_)\n",
    "#     df['category'] = le.transform(df['category'])\n",
    "    encoder = OneHotEncoder()\n",
    "    encoder.fit(df[['category']])\n",
    "    encoded_data = encoder.transform(df[['category']])\n",
    "    encoded_df = pd.DataFrame(encoded_data.toarray(), columns=encoder.get_feature_names(['category']))\n",
    "    df = pd.concat([df.reset_index(), encoded_df],axis=1)\n",
    "    df = df.set_index('recipe').drop(['category'],axis=1)\n",
    "    df['high_traffic'] = df['high_traffic'].replace({'High':1,'Not_High':0})\n",
    "    return df\n",
    "\n",
    "df = post_processing(df)\n",
    "df.info()\n",
    "df.head()"
   ]
  },
  {
   "cell_type": "code",
   "execution_count": 25,
   "id": "9cf3d999",
   "metadata": {
    "execution": {
     "iopub.execute_input": "2023-03-29T03:55:51.371340Z",
     "iopub.status.busy": "2023-03-29T03:55:51.370382Z",
     "iopub.status.idle": "2023-03-29T03:55:51.815227Z",
     "shell.execute_reply": "2023-03-29T03:55:51.814429Z"
    },
    "papermill": {
     "duration": 0.473978,
     "end_time": "2023-03-29T03:55:51.819003",
     "exception": false,
     "start_time": "2023-03-29T03:55:51.345025",
     "status": "completed"
    },
    "tags": []
   },
   "outputs": [
    {
     "data": {
      "text/plain": [
       "<Figure size 1500x1500 with 0 Axes>"
      ]
     },
     "execution_count": 25,
     "metadata": {},
     "output_type": "execute_result"
    },
    {
     "data": {
      "image/png": "[encoded data removed]",
      "text/plain": [
       "<Figure size 640x480 with 2 Axes>"
      ]
     },
     "metadata": {},
     "output_type": "display_data"
    },
    {
     "data": {
      "text/plain": [
       "<Figure size 1500x1500 with 0 Axes>"
      ]
     },
     "metadata": {},
     "output_type": "display_data"
    }
   ],
   "source": [
    "# build correlation matrix\n",
    "correlation = df.corr()\n",
    "plt.title('Correlation Matrix')\n",
    "sns.heatmap(correlation, vmax=1, annot = False, cmap='cubehelix')\n",
    "plt.figure(figsize=(15, 15))"
   ]
  },
  {
   "cell_type": "code",
   "execution_count": 26,
   "id": "e5705200",
   "metadata": {
    "execution": {
     "iopub.execute_input": "2023-03-29T03:55:51.865899Z",
     "iopub.status.busy": "2023-03-29T03:55:51.865416Z",
     "iopub.status.idle": "2023-03-29T03:55:51.880349Z",
     "shell.execute_reply": "2023-03-29T03:55:51.879289Z"
    },
    "papermill": {
     "duration": 0.04072,
     "end_time": "2023-03-29T03:55:51.883010",
     "exception": false,
     "start_time": "2023-03-29T03:55:51.842290",
     "status": "completed"
    },
    "tags": []
   },
   "outputs": [
    {
     "data": {
      "text/html": [
       "<div>\n",
       "<style scoped>\n",
       "    .dataframe tbody tr th:only-of-type {\n",
       "        vertical-align: middle;\n",
       "    }\n",
       "\n",
       "    .dataframe tbody tr th {\n",
       "        vertical-align: top;\n",
       "    }\n",
       "\n",
       "    .dataframe thead th {\n",
       "        text-align: right;\n",
       "    }\n",
       "</style>\n",
       "<table border=\"1\" class=\"dataframe\">\n",
       "  <thead>\n",
       "    <tr style=\"text-align: right;\">\n",
       "      <th></th>\n",
       "      <th>high_traffic</th>\n",
       "    </tr>\n",
       "  </thead>\n",
       "  <tbody>\n",
       "    <tr>\n",
       "      <th>category_Beverages</th>\n",
       "      <td>-0.375115</td>\n",
       "    </tr>\n",
       "    <tr>\n",
       "      <th>category_Vegetable</th>\n",
       "      <td>0.245382</td>\n",
       "    </tr>\n",
       "    <tr>\n",
       "      <th>category_Potato</th>\n",
       "      <td>0.222984</td>\n",
       "    </tr>\n",
       "    <tr>\n",
       "      <th>category_Breakfast</th>\n",
       "      <td>-0.214116</td>\n",
       "    </tr>\n",
       "    <tr>\n",
       "      <th>category_Pork</th>\n",
       "      <td>0.186179</td>\n",
       "    </tr>\n",
       "    <tr>\n",
       "      <th>category_Chicken</th>\n",
       "      <td>-0.167884</td>\n",
       "    </tr>\n",
       "    <tr>\n",
       "      <th>category_Meat</th>\n",
       "      <td>0.097345</td>\n",
       "    </tr>\n",
       "    <tr>\n",
       "      <th>category_One Dish Meal</th>\n",
       "      <td>0.094808</td>\n",
       "    </tr>\n",
       "    <tr>\n",
       "      <th>carbohydrate</th>\n",
       "      <td>0.080932</td>\n",
       "    </tr>\n",
       "    <tr>\n",
       "      <th>sugar</th>\n",
       "      <td>-0.075527</td>\n",
       "    </tr>\n",
       "    <tr>\n",
       "      <th>calories</th>\n",
       "      <td>0.074382</td>\n",
       "    </tr>\n",
       "    <tr>\n",
       "      <th>protein</th>\n",
       "      <td>0.044575</td>\n",
       "    </tr>\n",
       "    <tr>\n",
       "      <th>servings</th>\n",
       "      <td>0.043229</td>\n",
       "    </tr>\n",
       "    <tr>\n",
       "      <th>category_Lunch/Snacks</th>\n",
       "      <td>0.023563</td>\n",
       "    </tr>\n",
       "    <tr>\n",
       "      <th>category_Dessert</th>\n",
       "      <td>0.016025</td>\n",
       "    </tr>\n",
       "  </tbody>\n",
       "</table>\n",
       "</div>"
      ],
      "text/plain": [
       "                        high_traffic\n",
       "category_Beverages         -0.375115\n",
       "category_Vegetable          0.245382\n",
       "category_Potato             0.222984\n",
       "category_Breakfast         -0.214116\n",
       "category_Pork               0.186179\n",
       "category_Chicken           -0.167884\n",
       "category_Meat               0.097345\n",
       "category_One Dish Meal      0.094808\n",
       "carbohydrate                0.080932\n",
       "sugar                      -0.075527\n",
       "calories                    0.074382\n",
       "protein                     0.044575\n",
       "servings                    0.043229\n",
       "category_Lunch/Snacks       0.023563\n",
       "category_Dessert            0.016025"
      ]
     },
     "execution_count": 26,
     "metadata": {},
     "output_type": "execute_result"
    }
   ],
   "source": [
    "# look for high correlation\n",
    "high_corr = pd.DataFrame(correlation['high_traffic'].loc[abs(correlation['high_traffic'])>0.001].sort_values()).drop('high_traffic')\n",
    "high_corr_col = high_corr.index\n",
    "high_corr.sort_values(by=['high_traffic'], key=lambda x: abs(x),ascending=False)"
   ]
  },
  {
   "cell_type": "code",
   "execution_count": 27,
   "id": "1a142f41",
   "metadata": {
    "execution": {
     "iopub.execute_input": "2023-03-29T03:55:51.930098Z",
     "iopub.status.busy": "2023-03-29T03:55:51.929688Z",
     "iopub.status.idle": "2023-03-29T03:55:51.952007Z",
     "shell.execute_reply": "2023-03-29T03:55:51.950531Z"
    },
    "papermill": {
     "duration": 0.048151,
     "end_time": "2023-03-29T03:55:51.954450",
     "exception": false,
     "start_time": "2023-03-29T03:55:51.906299",
     "status": "completed"
    },
    "tags": []
   },
   "outputs": [
    {
     "data": {
      "text/html": [
       "<div>\n",
       "<style scoped>\n",
       "    .dataframe tbody tr th:only-of-type {\n",
       "        vertical-align: middle;\n",
       "    }\n",
       "\n",
       "    .dataframe tbody tr th {\n",
       "        vertical-align: top;\n",
       "    }\n",
       "\n",
       "    .dataframe thead th {\n",
       "        text-align: right;\n",
       "    }\n",
       "</style>\n",
       "<table border=\"1\" class=\"dataframe\">\n",
       "  <thead>\n",
       "    <tr style=\"text-align: right;\">\n",
       "      <th></th>\n",
       "      <th>Score</th>\n",
       "    </tr>\n",
       "    <tr>\n",
       "      <th>Specs</th>\n",
       "      <th></th>\n",
       "    </tr>\n",
       "  </thead>\n",
       "  <tbody>\n",
       "    <tr>\n",
       "      <th>category_Beverages</th>\n",
       "      <td>146.231789</td>\n",
       "    </tr>\n",
       "    <tr>\n",
       "      <th>category_Vegetable</th>\n",
       "      <td>57.214679</td>\n",
       "    </tr>\n",
       "    <tr>\n",
       "      <th>category_Potato</th>\n",
       "      <td>46.724939</td>\n",
       "    </tr>\n",
       "    <tr>\n",
       "      <th>category_Breakfast</th>\n",
       "      <td>42.907466</td>\n",
       "    </tr>\n",
       "    <tr>\n",
       "      <th>category_Pork</th>\n",
       "      <td>32.065094</td>\n",
       "    </tr>\n",
       "    <tr>\n",
       "      <th>category_Chicken</th>\n",
       "      <td>25.899331</td>\n",
       "    </tr>\n",
       "    <tr>\n",
       "      <th>category_Meat</th>\n",
       "      <td>8.543032</td>\n",
       "    </tr>\n",
       "    <tr>\n",
       "      <th>category_One Dish Meal</th>\n",
       "      <td>8.099599</td>\n",
       "    </tr>\n",
       "    <tr>\n",
       "      <th>carbohydrate</th>\n",
       "      <td>5.887661</td>\n",
       "    </tr>\n",
       "    <tr>\n",
       "      <th>sugar</th>\n",
       "      <td>5.123182</td>\n",
       "    </tr>\n",
       "  </tbody>\n",
       "</table>\n",
       "</div>"
      ],
      "text/plain": [
       "                             Score\n",
       "Specs                             \n",
       "category_Beverages      146.231789\n",
       "category_Vegetable       57.214679\n",
       "category_Potato          46.724939\n",
       "category_Breakfast       42.907466\n",
       "category_Pork            32.065094\n",
       "category_Chicken         25.899331\n",
       "category_Meat             8.543032\n",
       "category_One Dish Meal    8.099599\n",
       "carbohydrate              5.887661\n",
       "sugar                     5.123182"
      ]
     },
     "execution_count": 27,
     "metadata": {},
     "output_type": "execute_result"
    }
   ],
   "source": [
    "#find out most important features\n",
    "X = df.drop('high_traffic',axis=1)\n",
    "y = df['high_traffic']\n",
    "bestfeatures = SelectKBest(k=5, score_func=f_classif)\n",
    "fit = bestfeatures.fit(X,y)\n",
    "dfscores = pd.DataFrame(fit.scores_)\n",
    "dfcolumns = pd.DataFrame(X.columns)\n",
    "#concat two dataframes for better visualization \n",
    "featureScores = pd.concat([dfcolumns,dfscores],axis=1)\n",
    "featureScores.columns = ['Specs','Score']\n",
    "main_feat = featureScores.nlargest(10,'Score').set_index('Specs')\n",
    "main_feat"
   ]
  },
  {
   "cell_type": "code",
   "execution_count": 28,
   "id": "6dcceee7",
   "metadata": {
    "execution": {
     "iopub.execute_input": "2023-03-29T03:55:52.001584Z",
     "iopub.status.busy": "2023-03-29T03:55:52.001181Z",
     "iopub.status.idle": "2023-03-29T03:55:52.006902Z",
     "shell.execute_reply": "2023-03-29T03:55:52.005982Z"
    },
    "papermill": {
     "duration": 0.033256,
     "end_time": "2023-03-29T03:55:52.009253",
     "exception": false,
     "start_time": "2023-03-29T03:55:51.975997",
     "status": "completed"
    },
    "tags": []
   },
   "outputs": [],
   "source": [
    "# select only the most important features\n",
    "X = df[main_feat.index]"
   ]
  },
  {
   "cell_type": "code",
   "execution_count": 29,
   "id": "7a79e233",
   "metadata": {
    "execution": {
     "iopub.execute_input": "2023-03-29T03:55:52.054846Z",
     "iopub.status.busy": "2023-03-29T03:55:52.054472Z",
     "iopub.status.idle": "2023-03-29T03:55:52.068637Z",
     "shell.execute_reply": "2023-03-29T03:55:52.066493Z"
    },
    "papermill": {
     "duration": 0.040989,
     "end_time": "2023-03-29T03:55:52.072205",
     "exception": false,
     "start_time": "2023-03-29T03:55:52.031216",
     "status": "completed"
    },
    "tags": []
   },
   "outputs": [],
   "source": [
    "# make categorical and numeric columns again\n",
    "categorical_cols = [col for col in X.select_dtypes(include=['number']).columns \n",
    "                    if X[col].nunique() < 15]\n",
    "numeric_cols = [col for col in X.select_dtypes(include=['number']).columns \n",
    "                    if X[col].nunique() > 15]"
   ]
  },
  {
   "cell_type": "code",
   "execution_count": 30,
   "id": "50fca433",
   "metadata": {
    "execution": {
     "iopub.execute_input": "2023-03-29T03:55:52.120316Z",
     "iopub.status.busy": "2023-03-29T03:55:52.119874Z",
     "iopub.status.idle": "2023-03-29T03:55:52.131114Z",
     "shell.execute_reply": "2023-03-29T03:55:52.130147Z"
    },
    "papermill": {
     "duration": 0.039964,
     "end_time": "2023-03-29T03:55:52.133893",
     "exception": false,
     "start_time": "2023-03-29T03:55:52.093929",
     "status": "completed"
    },
    "tags": []
   },
   "outputs": [],
   "source": [
    "# deal with outliers\n",
    "def box_outliers(df):\n",
    "    Q1 = df.quantile(0.25)\n",
    "    Q3 = df.quantile(0.75)\n",
    "    IQR = Q3 - Q1\n",
    "    Lower_fence = Q1 - (IQR * 3)\n",
    "    Upper_fence = Q3 + (IQR * 3) \n",
    "    return Lower_fence, Upper_fence\n",
    "Lower_fence, Upper_fence=box_outliers(X[numeric_cols])\n",
    "\n",
    "def max_value(df, top):\n",
    "    return np.where(df>top, top, df)\n",
    "X[numeric_cols] = max_value(X[numeric_cols], Upper_fence)"
   ]
  },
  {
   "cell_type": "code",
   "execution_count": 31,
   "id": "c469f8a9",
   "metadata": {
    "execution": {
     "iopub.execute_input": "2023-03-29T03:55:52.179014Z",
     "iopub.status.busy": "2023-03-29T03:55:52.178601Z",
     "iopub.status.idle": "2023-03-29T03:55:52.187969Z",
     "shell.execute_reply": "2023-03-29T03:55:52.186447Z"
    },
    "papermill": {
     "duration": 0.035123,
     "end_time": "2023-03-29T03:55:52.190600",
     "exception": false,
     "start_time": "2023-03-29T03:55:52.155477",
     "status": "completed"
    },
    "tags": []
   },
   "outputs": [],
   "source": [
    "# scale the data\n",
    "scaler = MinMaxScaler()\n",
    "X[numeric_cols] = scaler.fit_transform(X[numeric_cols])"
   ]
  },
  {
   "cell_type": "code",
   "execution_count": 32,
   "id": "ecc6b059",
   "metadata": {
    "execution": {
     "iopub.execute_input": "2023-03-29T03:55:52.238107Z",
     "iopub.status.busy": "2023-03-29T03:55:52.237669Z",
     "iopub.status.idle": "2023-03-29T03:55:52.251781Z",
     "shell.execute_reply": "2023-03-29T03:55:52.249678Z"
    },
    "papermill": {
     "duration": 0.040827,
     "end_time": "2023-03-29T03:55:52.254595",
     "exception": false,
     "start_time": "2023-03-29T03:55:52.213768",
     "status": "completed"
    },
    "tags": []
   },
   "outputs": [
    {
     "name": "stdout",
     "output_type": "stream",
     "text": [
      "<class 'pandas.core.frame.DataFrame'>\n",
      "Int64Index: 895 entries, 2 to 947\n",
      "Data columns (total 10 columns):\n",
      " #   Column                  Non-Null Count  Dtype  \n",
      "---  ------                  --------------  -----  \n",
      " 0   category_Beverages      895 non-null    float64\n",
      " 1   category_Vegetable      895 non-null    float64\n",
      " 2   category_Potato         895 non-null    float64\n",
      " 3   category_Breakfast      895 non-null    float64\n",
      " 4   category_Pork           895 non-null    float64\n",
      " 5   category_Chicken        895 non-null    float64\n",
      " 6   category_Meat           895 non-null    float64\n",
      " 7   category_One Dish Meal  895 non-null    float64\n",
      " 8   carbohydrate            895 non-null    float64\n",
      " 9   sugar                   895 non-null    float64\n",
      "dtypes: float64(10)\n",
      "memory usage: 76.9 KB\n"
     ]
    }
   ],
   "source": [
    "# check df again\n",
    "X.info()"
   ]
  },
  {
   "cell_type": "code",
   "execution_count": 33,
   "id": "e8ec34c8",
   "metadata": {
    "execution": {
     "iopub.execute_input": "2023-03-29T03:55:52.298673Z",
     "iopub.status.busy": "2023-03-29T03:55:52.298311Z",
     "iopub.status.idle": "2023-03-29T03:55:52.307576Z",
     "shell.execute_reply": "2023-03-29T03:55:52.306110Z"
    },
    "papermill": {
     "duration": 0.034361,
     "end_time": "2023-03-29T03:55:52.310403",
     "exception": false,
     "start_time": "2023-03-29T03:55:52.276042",
     "status": "completed"
    },
    "tags": []
   },
   "outputs": [],
   "source": [
    "# split train and test data\n",
    "X_train, X_test, y_train, y_test = train_test_split(X, y, test_size=0.3, random_state=40)"
   ]
  },
  {
   "cell_type": "code",
   "execution_count": 34,
   "id": "014900b8",
   "metadata": {
    "execution": {
     "iopub.execute_input": "2023-03-29T03:55:52.358125Z",
     "iopub.status.busy": "2023-03-29T03:55:52.357737Z",
     "iopub.status.idle": "2023-03-29T03:55:52.367632Z",
     "shell.execute_reply": "2023-03-29T03:55:52.366531Z"
    },
    "papermill": {
     "duration": 0.037656,
     "end_time": "2023-03-29T03:55:52.370474",
     "exception": false,
     "start_time": "2023-03-29T03:55:52.332818",
     "status": "completed"
    },
    "tags": []
   },
   "outputs": [],
   "source": [
    "# create predictions pipeline\n",
    "def run_pred(X_train, y_train, ml_model,n):\n",
    "    t0=time.time()\n",
    "    model = ml_model\n",
    "    model.fit(X_train, y_train)\n",
    "    y_pred=model.predict(X_test)\n",
    "    cv_f1 = cross_val_score(model,X_train, y_train, cv=n, scoring='f1')\n",
    "    cv_f1_weighted = cross_val_score(model,X_train, y_train, cv=n, scoring='f1_weighted')\n",
    "    cv_roc_auc=cross_val_score(model,X_train, y_train, cv=n, scoring='roc_auc')\n",
    "    cv_log_loss=cross_val_score(model,X_train, y_train, cv=n, scoring='neg_log_loss')\n",
    "    cv_accuracy=cross_val_score(model,X_train, y_train, cv=n, scoring='accuracy')\n",
    "    cv_precison=cross_val_score(model,X_train, y_train, cv=n, scoring='precision')\n",
    "    cv_recall=cross_val_score(model,X_train, y_train, cv=n, scoring='recall')\n",
    "    time_taken = time.time()-t0\n",
    "    print(f'Current baseline is {type(ml_model).__name__}')\n",
    "    print(f'CV f1 score is {cv_f1.mean()}')\n",
    "    print(f'CV f1 weighted score is {cv_f1_weighted.mean()}')\n",
    "    print(f'CV area under the curve is {cv_roc_auc.mean()}')\n",
    "    print(f'CV accuracy is {cv_accuracy.mean()}')\n",
    "    print(f'CV precision is {cv_precison.mean()}')\n",
    "    print(f'CV recall is {cv_recall.mean()}')\n",
    "    print(f'\\n')\n",
    "    print(\"Time taken = {}\".format(time_taken))\n",
    "    print(f'\\n')\n",
    "    return y_pred"
   ]
  },
  {
   "cell_type": "code",
   "execution_count": 35,
   "id": "2d0c371f",
   "metadata": {
    "execution": {
     "iopub.execute_input": "2023-03-29T03:55:52.416755Z",
     "iopub.status.busy": "2023-03-29T03:55:52.415563Z",
     "iopub.status.idle": "2023-03-29T03:56:06.906187Z",
     "shell.execute_reply": "2023-03-29T03:56:06.903965Z"
    },
    "papermill": {
     "duration": 14.51687,
     "end_time": "2023-03-29T03:56:06.909413",
     "exception": false,
     "start_time": "2023-03-29T03:55:52.392543",
     "status": "completed"
    },
    "tags": []
   },
   "outputs": [
    {
     "name": "stdout",
     "output_type": "stream",
     "text": [
      "Current baseline is LogisticRegression\n",
      "CV f1 score is 0.795545143684414\n",
      "CV f1 weighted score is 0.7511882421214886\n",
      "CV area under the curve is 0.8244423897581793\n",
      "CV accuracy is 0.7524065540194572\n",
      "CV precision is 0.7927151983747571\n",
      "CV recall is 0.8012091038406828\n",
      "\n",
      "\n",
      "Time taken = 0.5803306102752686\n",
      "\n",
      "\n",
      "Current baseline is KNeighborsClassifier\n",
      "CV f1 score is 0.7540301419338858\n",
      "CV f1 weighted score is 0.7013916495487049\n",
      "CV area under the curve is 0.7770072901849218\n",
      "CV accuracy is 0.7028161802355352\n",
      "CV precision is 0.7478357808677599\n",
      "CV recall is 0.7642247510668564\n",
      "\n",
      "\n",
      "Time taken = 0.4792184829711914\n",
      "\n",
      "\n",
      "Current baseline is GaussianNB\n",
      "CV f1 score is 0.7107994205780422\n",
      "CV f1 weighted score is 0.7087769781236013\n",
      "CV area under the curve is 0.8281909080132765\n",
      "CV accuracy is 0.7092165898617512\n",
      "CV precision is 0.8767930817669928\n",
      "CV recall is 0.6024182076813657\n",
      "\n",
      "\n",
      "Time taken = 0.3258788585662842\n",
      "\n",
      "\n",
      "Current baseline is DecisionTreeClassifier\n",
      "CV f1 score is 0.6923660502607871\n",
      "CV f1 weighted score is 0.6501046742064652\n",
      "CV area under the curve is 0.6401495969653864\n",
      "CV accuracy is 0.6468509984639017\n",
      "CV precision is 0.7271809113783297\n",
      "CV recall is 0.6763869132290184\n",
      "\n",
      "\n",
      "Time taken = 0.3914637565612793\n",
      "\n",
      "\n",
      "Current baseline is RandomForestClassifier\n",
      "CV f1 score is 0.7328659680379473\n",
      "CV f1 weighted score is 0.6738226610324225\n",
      "CV area under the curve is 0.747851766239924\n",
      "CV accuracy is 0.675652841781874\n",
      "CV precision is 0.7281249269084001\n",
      "CV recall is 0.7480796586059745\n",
      "\n",
      "\n",
      "Time taken = 11.586990356445312\n",
      "\n",
      "\n",
      "Current baseline is LinearSVC\n",
      "CV f1 score is 0.7965945264004632\n",
      "CV f1 weighted score is 0.7529330810482923\n",
      "CV area under the curve is 0.8264592223802751\n",
      "CV accuracy is 0.7539938556067589\n",
      "CV precision is 0.7945978118852774\n",
      "CV recall is 0.8012091038406828\n",
      "\n",
      "\n",
      "Time taken = 0.3944234848022461\n",
      "\n",
      "\n",
      "Current baseline is Perceptron\n",
      "CV f1 score is 0.7358403535516475\n",
      "CV f1 weighted score is 0.652942626503995\n",
      "CV area under the curve is 0.7785231152204836\n",
      "CV accuracy is 0.6802867383512545\n",
      "CV precision is 0.7441672698998183\n",
      "CV recall is 0.7724039829302988\n",
      "\n",
      "\n",
      "Time taken = 0.3171703815460205\n",
      "\n",
      "\n",
      "Current baseline is SGDClassifier\n",
      "CV f1 score is 0.7862065668543121\n",
      "CV f1 weighted score is 0.7239202451100342\n",
      "CV area under the curve is 0.7983917733522996\n",
      "CV accuracy is 0.7204813108038916\n",
      "CV precision is 0.764219919925826\n",
      "CV recall is 0.9041251778093884\n",
      "\n",
      "\n",
      "Time taken = 0.40444350242614746\n",
      "\n",
      "\n"
     ]
    }
   ],
   "source": [
    "# run predictions\n",
    "model_list=model_list=[LogisticRegression(), KNeighborsClassifier(),GaussianNB(),\n",
    "                       DecisionTreeClassifier(),RandomForestClassifier()\n",
    "                       ,LinearSVC(), Perceptron(), SGDClassifier()]\n",
    "for i in model_list:\n",
    "    y_pred = run_pred(X_train, y_train,i,10)"
   ]
  },
  {
   "cell_type": "code",
   "execution_count": 36,
   "id": "16906a35",
   "metadata": {
    "execution": {
     "iopub.execute_input": "2023-03-29T03:56:06.957241Z",
     "iopub.status.busy": "2023-03-29T03:56:06.956789Z",
     "iopub.status.idle": "2023-03-29T03:56:08.378626Z",
     "shell.execute_reply": "2023-03-29T03:56:08.377302Z"
    },
    "papermill": {
     "duration": 1.448218,
     "end_time": "2023-03-29T03:56:08.381199",
     "exception": false,
     "start_time": "2023-03-29T03:56:06.932981",
     "status": "completed"
    },
    "tags": []
   },
   "outputs": [
    {
     "name": "stdout",
     "output_type": "stream",
     "text": [
      "Current baseline is LogisticRegression\n",
      "CV f1 score is 0.795545143684414\n",
      "CV f1 weighted score is 0.7511882421214886\n",
      "CV area under the curve is 0.8244423897581793\n",
      "CV accuracy is 0.7524065540194572\n",
      "CV precision is 0.7927151983747571\n",
      "CV recall is 0.8012091038406828\n",
      "\n",
      "\n",
      "Time taken = 0.6158843040466309\n",
      "\n",
      "\n",
      "Current baseline is LinearSVC\n",
      "CV f1 score is 0.7965945264004632\n",
      "CV f1 weighted score is 0.7529330810482923\n",
      "CV area under the curve is 0.8264592223802751\n",
      "CV accuracy is 0.7539938556067589\n",
      "CV precision is 0.7945978118852774\n",
      "CV recall is 0.8012091038406828\n",
      "\n",
      "\n",
      "Time taken = 0.4072737693786621\n",
      "\n",
      "\n",
      "Current baseline is SGDClassifier\n",
      "CV f1 score is 0.8005771673350083\n",
      "CV f1 weighted score is 0.7037136540800635\n",
      "CV area under the curve is 0.808524893314367\n",
      "CV accuracy is 0.730005120327701\n",
      "CV precision is 0.7588994693710573\n",
      "CV recall is 0.7241109530583214\n",
      "\n",
      "\n",
      "Time taken = 0.391726016998291\n",
      "\n",
      "\n"
     ]
    }
   ],
   "source": [
    "# leave only best models\n",
    "model_list=model_list=[LogisticRegression(),LinearSVC(), SGDClassifier()]\n",
    "\n",
    "for i in model_list:\n",
    "   run_pred(X_train, y_train,i,10)"
   ]
  },
  {
   "cell_type": "code",
   "execution_count": 37,
   "id": "b50a1d18",
   "metadata": {
    "execution": {
     "iopub.execute_input": "2023-03-29T03:56:08.427561Z",
     "iopub.status.busy": "2023-03-29T03:56:08.427226Z",
     "iopub.status.idle": "2023-03-29T03:56:40.079658Z",
     "shell.execute_reply": "2023-03-29T03:56:40.078022Z"
    },
    "papermill": {
     "duration": 31.70035,
     "end_time": "2023-03-29T03:56:40.104596",
     "exception": false,
     "start_time": "2023-03-29T03:56:08.404246",
     "status": "completed"
    },
    "tags": []
   },
   "outputs": [
    {
     "name": "stdout",
     "output_type": "stream",
     "text": [
      "Fitting 5 folds for each of 1080 candidates, totalling 5400 fits\n"
     ]
    },
    {
     "name": "stderr",
     "output_type": "stream",
     "text": [
      "/opt/conda/lib/python3.7/site-packages/sklearn/linear_model/_stochastic_gradient.py:700: ConvergenceWarning: Maximum number of iteration reached before convergence. Consider increasing max_iter to improve the fit.\n",
      "  ConvergenceWarning,\n",
      "/opt/conda/lib/python3.7/site-packages/sklearn/linear_model/_stochastic_gradient.py:700: ConvergenceWarning: Maximum number of iteration reached before convergence. Consider increasing max_iter to improve the fit.\n",
      "  ConvergenceWarning,\n",
      "/opt/conda/lib/python3.7/site-packages/sklearn/linear_model/_stochastic_gradient.py:700: ConvergenceWarning: Maximum number of iteration reached before convergence. Consider increasing max_iter to improve the fit.\n",
      "  ConvergenceWarning,\n",
      "/opt/conda/lib/python3.7/site-packages/sklearn/linear_model/_stochastic_gradient.py:700: ConvergenceWarning: Maximum number of iteration reached before convergence. Consider increasing max_iter to improve the fit.\n",
      "  ConvergenceWarning,\n",
      "/opt/conda/lib/python3.7/site-packages/sklearn/linear_model/_stochastic_gradient.py:700: ConvergenceWarning: Maximum number of iteration reached before convergence. Consider increasing max_iter to improve the fit.\n",
      "  ConvergenceWarning,\n",
      "/opt/conda/lib/python3.7/site-packages/sklearn/linear_model/_stochastic_gradient.py:700: ConvergenceWarning: Maximum number of iteration reached before convergence. Consider increasing max_iter to improve the fit.\n",
      "  ConvergenceWarning,\n",
      "/opt/conda/lib/python3.7/site-packages/sklearn/linear_model/_stochastic_gradient.py:700: ConvergenceWarning: Maximum number of iteration reached before convergence. Consider increasing max_iter to improve the fit.\n",
      "  ConvergenceWarning,\n",
      "/opt/conda/lib/python3.7/site-packages/sklearn/linear_model/_stochastic_gradient.py:700: ConvergenceWarning: Maximum number of iteration reached before convergence. Consider increasing max_iter to improve the fit.\n",
      "  ConvergenceWarning,\n",
      "/opt/conda/lib/python3.7/site-packages/sklearn/linear_model/_stochastic_gradient.py:700: ConvergenceWarning: Maximum number of iteration reached before convergence. Consider increasing max_iter to improve the fit.\n",
      "  ConvergenceWarning,\n",
      "/opt/conda/lib/python3.7/site-packages/sklearn/linear_model/_stochastic_gradient.py:700: ConvergenceWarning: Maximum number of iteration reached before convergence. Consider increasing max_iter to improve the fit.\n",
      "  ConvergenceWarning,\n",
      "/opt/conda/lib/python3.7/site-packages/sklearn/linear_model/_stochastic_gradient.py:700: ConvergenceWarning: Maximum number of iteration reached before convergence. Consider increasing max_iter to improve the fit.\n",
      "  ConvergenceWarning,\n",
      "/opt/conda/lib/python3.7/site-packages/sklearn/linear_model/_stochastic_gradient.py:700: ConvergenceWarning: Maximum number of iteration reached before convergence. Consider increasing max_iter to improve the fit.\n",
      "  ConvergenceWarning,\n",
      "/opt/conda/lib/python3.7/site-packages/sklearn/linear_model/_stochastic_gradient.py:700: ConvergenceWarning: Maximum number of iteration reached before convergence. Consider increasing max_iter to improve the fit.\n",
      "  ConvergenceWarning,\n",
      "/opt/conda/lib/python3.7/site-packages/sklearn/linear_model/_stochastic_gradient.py:700: ConvergenceWarning: Maximum number of iteration reached before convergence. Consider increasing max_iter to improve the fit.\n",
      "  ConvergenceWarning,\n",
      "/opt/conda/lib/python3.7/site-packages/sklearn/linear_model/_stochastic_gradient.py:700: ConvergenceWarning: Maximum number of iteration reached before convergence. Consider increasing max_iter to improve the fit.\n",
      "  ConvergenceWarning,\n",
      "/opt/conda/lib/python3.7/site-packages/sklearn/linear_model/_stochastic_gradient.py:700: ConvergenceWarning: Maximum number of iteration reached before convergence. Consider increasing max_iter to improve the fit.\n",
      "  ConvergenceWarning,\n",
      "/opt/conda/lib/python3.7/site-packages/sklearn/linear_model/_stochastic_gradient.py:700: ConvergenceWarning: Maximum number of iteration reached before convergence. Consider increasing max_iter to improve the fit.\n",
      "  ConvergenceWarning,\n",
      "/opt/conda/lib/python3.7/site-packages/sklearn/linear_model/_stochastic_gradient.py:700: ConvergenceWarning: Maximum number of iteration reached before convergence. Consider increasing max_iter to improve the fit.\n",
      "  ConvergenceWarning,\n",
      "/opt/conda/lib/python3.7/site-packages/sklearn/linear_model/_stochastic_gradient.py:700: ConvergenceWarning: Maximum number of iteration reached before convergence. Consider increasing max_iter to improve the fit.\n",
      "  ConvergenceWarning,\n",
      "/opt/conda/lib/python3.7/site-packages/sklearn/linear_model/_stochastic_gradient.py:700: ConvergenceWarning: Maximum number of iteration reached before convergence. Consider increasing max_iter to improve the fit.\n",
      "  ConvergenceWarning,\n",
      "/opt/conda/lib/python3.7/site-packages/sklearn/linear_model/_stochastic_gradient.py:700: ConvergenceWarning: Maximum number of iteration reached before convergence. Consider increasing max_iter to improve the fit.\n",
      "  ConvergenceWarning,\n",
      "/opt/conda/lib/python3.7/site-packages/sklearn/linear_model/_stochastic_gradient.py:700: ConvergenceWarning: Maximum number of iteration reached before convergence. Consider increasing max_iter to improve the fit.\n",
      "  ConvergenceWarning,\n",
      "/opt/conda/lib/python3.7/site-packages/sklearn/linear_model/_stochastic_gradient.py:700: ConvergenceWarning: Maximum number of iteration reached before convergence. Consider increasing max_iter to improve the fit.\n",
      "  ConvergenceWarning,\n",
      "/opt/conda/lib/python3.7/site-packages/sklearn/linear_model/_stochastic_gradient.py:700: ConvergenceWarning: Maximum number of iteration reached before convergence. Consider increasing max_iter to improve the fit.\n",
      "  ConvergenceWarning,\n",
      "/opt/conda/lib/python3.7/site-packages/sklearn/linear_model/_stochastic_gradient.py:700: ConvergenceWarning: Maximum number of iteration reached before convergence. Consider increasing max_iter to improve the fit.\n",
      "  ConvergenceWarning,\n",
      "/opt/conda/lib/python3.7/site-packages/sklearn/linear_model/_stochastic_gradient.py:700: ConvergenceWarning: Maximum number of iteration reached before convergence. Consider increasing max_iter to improve the fit.\n",
      "  ConvergenceWarning,\n",
      "/opt/conda/lib/python3.7/site-packages/sklearn/linear_model/_stochastic_gradient.py:700: ConvergenceWarning: Maximum number of iteration reached before convergence. Consider increasing max_iter to improve the fit.\n",
      "  ConvergenceWarning,\n",
      "/opt/conda/lib/python3.7/site-packages/sklearn/linear_model/_stochastic_gradient.py:700: ConvergenceWarning: Maximum number of iteration reached before convergence. Consider increasing max_iter to improve the fit.\n",
      "  ConvergenceWarning,\n",
      "/opt/conda/lib/python3.7/site-packages/sklearn/linear_model/_stochastic_gradient.py:700: ConvergenceWarning: Maximum number of iteration reached before convergence. Consider increasing max_iter to improve the fit.\n",
      "  ConvergenceWarning,\n",
      "/opt/conda/lib/python3.7/site-packages/sklearn/linear_model/_stochastic_gradient.py:700: ConvergenceWarning: Maximum number of iteration reached before convergence. Consider increasing max_iter to improve the fit.\n",
      "  ConvergenceWarning,\n",
      "/opt/conda/lib/python3.7/site-packages/sklearn/linear_model/_stochastic_gradient.py:700: ConvergenceWarning: Maximum number of iteration reached before convergence. Consider increasing max_iter to improve the fit.\n",
      "  ConvergenceWarning,\n",
      "/opt/conda/lib/python3.7/site-packages/sklearn/linear_model/_stochastic_gradient.py:700: ConvergenceWarning: Maximum number of iteration reached before convergence. Consider increasing max_iter to improve the fit.\n",
      "  ConvergenceWarning,\n",
      "/opt/conda/lib/python3.7/site-packages/sklearn/linear_model/_stochastic_gradient.py:700: ConvergenceWarning: Maximum number of iteration reached before convergence. Consider increasing max_iter to improve the fit.\n",
      "  ConvergenceWarning,\n",
      "/opt/conda/lib/python3.7/site-packages/sklearn/linear_model/_stochastic_gradient.py:700: ConvergenceWarning: Maximum number of iteration reached before convergence. Consider increasing max_iter to improve the fit.\n",
      "  ConvergenceWarning,\n",
      "/opt/conda/lib/python3.7/site-packages/sklearn/linear_model/_stochastic_gradient.py:700: ConvergenceWarning: Maximum number of iteration reached before convergence. Consider increasing max_iter to improve the fit.\n",
      "  ConvergenceWarning,\n",
      "/opt/conda/lib/python3.7/site-packages/sklearn/linear_model/_stochastic_gradient.py:700: ConvergenceWarning: Maximum number of iteration reached before convergence. Consider increasing max_iter to improve the fit.\n",
      "  ConvergenceWarning,\n",
      "/opt/conda/lib/python3.7/site-packages/sklearn/linear_model/_stochastic_gradient.py:700: ConvergenceWarning: Maximum number of iteration reached before convergence. Consider increasing max_iter to improve the fit.\n",
      "  ConvergenceWarning,\n",
      "/opt/conda/lib/python3.7/site-packages/sklearn/linear_model/_stochastic_gradient.py:700: ConvergenceWarning: Maximum number of iteration reached before convergence. Consider increasing max_iter to improve the fit.\n",
      "  ConvergenceWarning,\n",
      "/opt/conda/lib/python3.7/site-packages/sklearn/linear_model/_stochastic_gradient.py:700: ConvergenceWarning: Maximum number of iteration reached before convergence. Consider increasing max_iter to improve the fit.\n",
      "  ConvergenceWarning,\n",
      "/opt/conda/lib/python3.7/site-packages/sklearn/linear_model/_stochastic_gradient.py:700: ConvergenceWarning: Maximum number of iteration reached before convergence. Consider increasing max_iter to improve the fit.\n",
      "  ConvergenceWarning,\n",
      "/opt/conda/lib/python3.7/site-packages/sklearn/linear_model/_stochastic_gradient.py:700: ConvergenceWarning: Maximum number of iteration reached before convergence. Consider increasing max_iter to improve the fit.\n",
      "  ConvergenceWarning,\n",
      "/opt/conda/lib/python3.7/site-packages/sklearn/linear_model/_stochastic_gradient.py:700: ConvergenceWarning: Maximum number of iteration reached before convergence. Consider increasing max_iter to improve the fit.\n",
      "  ConvergenceWarning,\n",
      "/opt/conda/lib/python3.7/site-packages/sklearn/linear_model/_stochastic_gradient.py:700: ConvergenceWarning: Maximum number of iteration reached before convergence. Consider increasing max_iter to improve the fit.\n",
      "  ConvergenceWarning,\n",
      "/opt/conda/lib/python3.7/site-packages/sklearn/linear_model/_stochastic_gradient.py:700: ConvergenceWarning: Maximum number of iteration reached before convergence. Consider increasing max_iter to improve the fit.\n",
      "  ConvergenceWarning,\n",
      "/opt/conda/lib/python3.7/site-packages/sklearn/linear_model/_stochastic_gradient.py:700: ConvergenceWarning: Maximum number of iteration reached before convergence. Consider increasing max_iter to improve the fit.\n",
      "  ConvergenceWarning,\n",
      "/opt/conda/lib/python3.7/site-packages/sklearn/linear_model/_stochastic_gradient.py:700: ConvergenceWarning: Maximum number of iteration reached before convergence. Consider increasing max_iter to improve the fit.\n",
      "  ConvergenceWarning,\n",
      "/opt/conda/lib/python3.7/site-packages/sklearn/linear_model/_stochastic_gradient.py:700: ConvergenceWarning: Maximum number of iteration reached before convergence. Consider increasing max_iter to improve the fit.\n",
      "  ConvergenceWarning,\n",
      "/opt/conda/lib/python3.7/site-packages/sklearn/linear_model/_stochastic_gradient.py:700: ConvergenceWarning: Maximum number of iteration reached before convergence. Consider increasing max_iter to improve the fit.\n",
      "  ConvergenceWarning,\n",
      "/opt/conda/lib/python3.7/site-packages/sklearn/linear_model/_stochastic_gradient.py:700: ConvergenceWarning: Maximum number of iteration reached before convergence. Consider increasing max_iter to improve the fit.\n",
      "  ConvergenceWarning,\n",
      "/opt/conda/lib/python3.7/site-packages/sklearn/linear_model/_stochastic_gradient.py:700: ConvergenceWarning: Maximum number of iteration reached before convergence. Consider increasing max_iter to improve the fit.\n",
      "  ConvergenceWarning,\n",
      "/opt/conda/lib/python3.7/site-packages/sklearn/linear_model/_stochastic_gradient.py:700: ConvergenceWarning: Maximum number of iteration reached before convergence. Consider increasing max_iter to improve the fit.\n",
      "  ConvergenceWarning,\n",
      "/opt/conda/lib/python3.7/site-packages/sklearn/linear_model/_stochastic_gradient.py:700: ConvergenceWarning: Maximum number of iteration reached before convergence. Consider increasing max_iter to improve the fit.\n",
      "  ConvergenceWarning,\n",
      "/opt/conda/lib/python3.7/site-packages/sklearn/linear_model/_stochastic_gradient.py:700: ConvergenceWarning: Maximum number of iteration reached before convergence. Consider increasing max_iter to improve the fit.\n",
      "  ConvergenceWarning,\n",
      "/opt/conda/lib/python3.7/site-packages/sklearn/linear_model/_stochastic_gradient.py:700: ConvergenceWarning: Maximum number of iteration reached before convergence. Consider increasing max_iter to improve the fit.\n",
      "  ConvergenceWarning,\n",
      "/opt/conda/lib/python3.7/site-packages/sklearn/linear_model/_stochastic_gradient.py:700: ConvergenceWarning: Maximum number of iteration reached before convergence. Consider increasing max_iter to improve the fit.\n",
      "  ConvergenceWarning,\n",
      "/opt/conda/lib/python3.7/site-packages/sklearn/linear_model/_stochastic_gradient.py:700: ConvergenceWarning: Maximum number of iteration reached before convergence. Consider increasing max_iter to improve the fit.\n",
      "  ConvergenceWarning,\n",
      "/opt/conda/lib/python3.7/site-packages/sklearn/linear_model/_stochastic_gradient.py:700: ConvergenceWarning: Maximum number of iteration reached before convergence. Consider increasing max_iter to improve the fit.\n",
      "  ConvergenceWarning,\n",
      "/opt/conda/lib/python3.7/site-packages/sklearn/linear_model/_stochastic_gradient.py:700: ConvergenceWarning: Maximum number of iteration reached before convergence. Consider increasing max_iter to improve the fit.\n",
      "  ConvergenceWarning,\n",
      "/opt/conda/lib/python3.7/site-packages/sklearn/linear_model/_stochastic_gradient.py:700: ConvergenceWarning: Maximum number of iteration reached before convergence. Consider increasing max_iter to improve the fit.\n",
      "  ConvergenceWarning,\n",
      "/opt/conda/lib/python3.7/site-packages/sklearn/linear_model/_stochastic_gradient.py:700: ConvergenceWarning: Maximum number of iteration reached before convergence. Consider increasing max_iter to improve the fit.\n",
      "  ConvergenceWarning,\n",
      "/opt/conda/lib/python3.7/site-packages/sklearn/linear_model/_stochastic_gradient.py:700: ConvergenceWarning: Maximum number of iteration reached before convergence. Consider increasing max_iter to improve the fit.\n",
      "  ConvergenceWarning,\n",
      "/opt/conda/lib/python3.7/site-packages/sklearn/linear_model/_stochastic_gradient.py:700: ConvergenceWarning: Maximum number of iteration reached before convergence. Consider increasing max_iter to improve the fit.\n",
      "  ConvergenceWarning,\n",
      "/opt/conda/lib/python3.7/site-packages/sklearn/linear_model/_stochastic_gradient.py:700: ConvergenceWarning: Maximum number of iteration reached before convergence. Consider increasing max_iter to improve the fit.\n",
      "  ConvergenceWarning,\n",
      "/opt/conda/lib/python3.7/site-packages/sklearn/linear_model/_stochastic_gradient.py:700: ConvergenceWarning: Maximum number of iteration reached before convergence. Consider increasing max_iter to improve the fit.\n",
      "  ConvergenceWarning,\n",
      "/opt/conda/lib/python3.7/site-packages/sklearn/linear_model/_stochastic_gradient.py:700: ConvergenceWarning: Maximum number of iteration reached before convergence. Consider increasing max_iter to improve the fit.\n",
      "  ConvergenceWarning,\n",
      "/opt/conda/lib/python3.7/site-packages/sklearn/linear_model/_stochastic_gradient.py:700: ConvergenceWarning: Maximum number of iteration reached before convergence. Consider increasing max_iter to improve the fit.\n",
      "  ConvergenceWarning,\n",
      "/opt/conda/lib/python3.7/site-packages/sklearn/linear_model/_stochastic_gradient.py:700: ConvergenceWarning: Maximum number of iteration reached before convergence. Consider increasing max_iter to improve the fit.\n",
      "  ConvergenceWarning,\n",
      "/opt/conda/lib/python3.7/site-packages/sklearn/linear_model/_stochastic_gradient.py:700: ConvergenceWarning: Maximum number of iteration reached before convergence. Consider increasing max_iter to improve the fit.\n",
      "  ConvergenceWarning,\n",
      "/opt/conda/lib/python3.7/site-packages/sklearn/linear_model/_stochastic_gradient.py:700: ConvergenceWarning: Maximum number of iteration reached before convergence. Consider increasing max_iter to improve the fit.\n",
      "  ConvergenceWarning,\n",
      "/opt/conda/lib/python3.7/site-packages/sklearn/linear_model/_stochastic_gradient.py:700: ConvergenceWarning: Maximum number of iteration reached before convergence. Consider increasing max_iter to improve the fit.\n",
      "  ConvergenceWarning,\n",
      "/opt/conda/lib/python3.7/site-packages/sklearn/linear_model/_stochastic_gradient.py:700: ConvergenceWarning: Maximum number of iteration reached before convergence. Consider increasing max_iter to improve the fit.\n",
      "  ConvergenceWarning,\n",
      "/opt/conda/lib/python3.7/site-packages/sklearn/linear_model/_stochastic_gradient.py:700: ConvergenceWarning: Maximum number of iteration reached before convergence. Consider increasing max_iter to improve the fit.\n",
      "  ConvergenceWarning,\n",
      "/opt/conda/lib/python3.7/site-packages/sklearn/linear_model/_stochastic_gradient.py:700: ConvergenceWarning: Maximum number of iteration reached before convergence. Consider increasing max_iter to improve the fit.\n",
      "  ConvergenceWarning,\n",
      "/opt/conda/lib/python3.7/site-packages/sklearn/linear_model/_stochastic_gradient.py:700: ConvergenceWarning: Maximum number of iteration reached before convergence. Consider increasing max_iter to improve the fit.\n",
      "  ConvergenceWarning,\n",
      "/opt/conda/lib/python3.7/site-packages/sklearn/linear_model/_stochastic_gradient.py:700: ConvergenceWarning: Maximum number of iteration reached before convergence. Consider increasing max_iter to improve the fit.\n",
      "  ConvergenceWarning,\n",
      "/opt/conda/lib/python3.7/site-packages/sklearn/linear_model/_stochastic_gradient.py:700: ConvergenceWarning: Maximum number of iteration reached before convergence. Consider increasing max_iter to improve the fit.\n",
      "  ConvergenceWarning,\n",
      "/opt/conda/lib/python3.7/site-packages/sklearn/linear_model/_stochastic_gradient.py:700: ConvergenceWarning: Maximum number of iteration reached before convergence. Consider increasing max_iter to improve the fit.\n",
      "  ConvergenceWarning,\n",
      "/opt/conda/lib/python3.7/site-packages/sklearn/linear_model/_stochastic_gradient.py:700: ConvergenceWarning: Maximum number of iteration reached before convergence. Consider increasing max_iter to improve the fit.\n",
      "  ConvergenceWarning,\n",
      "/opt/conda/lib/python3.7/site-packages/sklearn/linear_model/_stochastic_gradient.py:700: ConvergenceWarning: Maximum number of iteration reached before convergence. Consider increasing max_iter to improve the fit.\n",
      "  ConvergenceWarning,\n",
      "/opt/conda/lib/python3.7/site-packages/sklearn/linear_model/_stochastic_gradient.py:700: ConvergenceWarning: Maximum number of iteration reached before convergence. Consider increasing max_iter to improve the fit.\n",
      "  ConvergenceWarning,\n",
      "/opt/conda/lib/python3.7/site-packages/sklearn/linear_model/_stochastic_gradient.py:700: ConvergenceWarning: Maximum number of iteration reached before convergence. Consider increasing max_iter to improve the fit.\n",
      "  ConvergenceWarning,\n",
      "/opt/conda/lib/python3.7/site-packages/sklearn/linear_model/_stochastic_gradient.py:700: ConvergenceWarning: Maximum number of iteration reached before convergence. Consider increasing max_iter to improve the fit.\n",
      "  ConvergenceWarning,\n",
      "/opt/conda/lib/python3.7/site-packages/sklearn/linear_model/_stochastic_gradient.py:700: ConvergenceWarning: Maximum number of iteration reached before convergence. Consider increasing max_iter to improve the fit.\n",
      "  ConvergenceWarning,\n",
      "/opt/conda/lib/python3.7/site-packages/sklearn/linear_model/_stochastic_gradient.py:700: ConvergenceWarning: Maximum number of iteration reached before convergence. Consider increasing max_iter to improve the fit.\n",
      "  ConvergenceWarning,\n",
      "/opt/conda/lib/python3.7/site-packages/sklearn/linear_model/_stochastic_gradient.py:700: ConvergenceWarning: Maximum number of iteration reached before convergence. Consider increasing max_iter to improve the fit.\n",
      "  ConvergenceWarning,\n",
      "/opt/conda/lib/python3.7/site-packages/sklearn/linear_model/_stochastic_gradient.py:700: ConvergenceWarning: Maximum number of iteration reached before convergence. Consider increasing max_iter to improve the fit.\n",
      "  ConvergenceWarning,\n",
      "/opt/conda/lib/python3.7/site-packages/sklearn/linear_model/_stochastic_gradient.py:700: ConvergenceWarning: Maximum number of iteration reached before convergence. Consider increasing max_iter to improve the fit.\n",
      "  ConvergenceWarning,\n",
      "/opt/conda/lib/python3.7/site-packages/sklearn/linear_model/_stochastic_gradient.py:700: ConvergenceWarning: Maximum number of iteration reached before convergence. Consider increasing max_iter to improve the fit.\n",
      "  ConvergenceWarning,\n",
      "/opt/conda/lib/python3.7/site-packages/sklearn/linear_model/_stochastic_gradient.py:700: ConvergenceWarning: Maximum number of iteration reached before convergence. Consider increasing max_iter to improve the fit.\n",
      "  ConvergenceWarning,\n",
      "/opt/conda/lib/python3.7/site-packages/sklearn/linear_model/_stochastic_gradient.py:700: ConvergenceWarning: Maximum number of iteration reached before convergence. Consider increasing max_iter to improve the fit.\n",
      "  ConvergenceWarning,\n",
      "/opt/conda/lib/python3.7/site-packages/sklearn/linear_model/_stochastic_gradient.py:700: ConvergenceWarning: Maximum number of iteration reached before convergence. Consider increasing max_iter to improve the fit.\n",
      "  ConvergenceWarning,\n",
      "/opt/conda/lib/python3.7/site-packages/sklearn/linear_model/_stochastic_gradient.py:700: ConvergenceWarning: Maximum number of iteration reached before convergence. Consider increasing max_iter to improve the fit.\n",
      "  ConvergenceWarning,\n",
      "/opt/conda/lib/python3.7/site-packages/sklearn/linear_model/_stochastic_gradient.py:700: ConvergenceWarning: Maximum number of iteration reached before convergence. Consider increasing max_iter to improve the fit.\n",
      "  ConvergenceWarning,\n",
      "/opt/conda/lib/python3.7/site-packages/sklearn/linear_model/_stochastic_gradient.py:700: ConvergenceWarning: Maximum number of iteration reached before convergence. Consider increasing max_iter to improve the fit.\n",
      "  ConvergenceWarning,\n",
      "/opt/conda/lib/python3.7/site-packages/sklearn/linear_model/_stochastic_gradient.py:700: ConvergenceWarning: Maximum number of iteration reached before convergence. Consider increasing max_iter to improve the fit.\n",
      "  ConvergenceWarning,\n",
      "/opt/conda/lib/python3.7/site-packages/sklearn/linear_model/_stochastic_gradient.py:700: ConvergenceWarning: Maximum number of iteration reached before convergence. Consider increasing max_iter to improve the fit.\n",
      "  ConvergenceWarning,\n",
      "/opt/conda/lib/python3.7/site-packages/sklearn/linear_model/_stochastic_gradient.py:700: ConvergenceWarning: Maximum number of iteration reached before convergence. Consider increasing max_iter to improve the fit.\n",
      "  ConvergenceWarning,\n",
      "/opt/conda/lib/python3.7/site-packages/sklearn/linear_model/_stochastic_gradient.py:700: ConvergenceWarning: Maximum number of iteration reached before convergence. Consider increasing max_iter to improve the fit.\n",
      "  ConvergenceWarning,\n",
      "/opt/conda/lib/python3.7/site-packages/sklearn/linear_model/_stochastic_gradient.py:700: ConvergenceWarning: Maximum number of iteration reached before convergence. Consider increasing max_iter to improve the fit.\n",
      "  ConvergenceWarning,\n",
      "/opt/conda/lib/python3.7/site-packages/sklearn/linear_model/_stochastic_gradient.py:700: ConvergenceWarning: Maximum number of iteration reached before convergence. Consider increasing max_iter to improve the fit.\n",
      "  ConvergenceWarning,\n",
      "/opt/conda/lib/python3.7/site-packages/sklearn/linear_model/_stochastic_gradient.py:700: ConvergenceWarning: Maximum number of iteration reached before convergence. Consider increasing max_iter to improve the fit.\n",
      "  ConvergenceWarning,\n",
      "/opt/conda/lib/python3.7/site-packages/sklearn/linear_model/_stochastic_gradient.py:700: ConvergenceWarning: Maximum number of iteration reached before convergence. Consider increasing max_iter to improve the fit.\n",
      "  ConvergenceWarning,\n",
      "/opt/conda/lib/python3.7/site-packages/sklearn/linear_model/_stochastic_gradient.py:700: ConvergenceWarning: Maximum number of iteration reached before convergence. Consider increasing max_iter to improve the fit.\n",
      "  ConvergenceWarning,\n",
      "/opt/conda/lib/python3.7/site-packages/sklearn/linear_model/_stochastic_gradient.py:700: ConvergenceWarning: Maximum number of iteration reached before convergence. Consider increasing max_iter to improve the fit.\n",
      "  ConvergenceWarning,\n",
      "/opt/conda/lib/python3.7/site-packages/sklearn/linear_model/_stochastic_gradient.py:700: ConvergenceWarning: Maximum number of iteration reached before convergence. Consider increasing max_iter to improve the fit.\n",
      "  ConvergenceWarning,\n",
      "/opt/conda/lib/python3.7/site-packages/sklearn/linear_model/_stochastic_gradient.py:700: ConvergenceWarning: Maximum number of iteration reached before convergence. Consider increasing max_iter to improve the fit.\n",
      "  ConvergenceWarning,\n",
      "/opt/conda/lib/python3.7/site-packages/sklearn/linear_model/_stochastic_gradient.py:700: ConvergenceWarning: Maximum number of iteration reached before convergence. Consider increasing max_iter to improve the fit.\n",
      "  ConvergenceWarning,\n",
      "/opt/conda/lib/python3.7/site-packages/sklearn/linear_model/_stochastic_gradient.py:700: ConvergenceWarning: Maximum number of iteration reached before convergence. Consider increasing max_iter to improve the fit.\n",
      "  ConvergenceWarning,\n",
      "/opt/conda/lib/python3.7/site-packages/sklearn/linear_model/_stochastic_gradient.py:700: ConvergenceWarning: Maximum number of iteration reached before convergence. Consider increasing max_iter to improve the fit.\n",
      "  ConvergenceWarning,\n",
      "/opt/conda/lib/python3.7/site-packages/sklearn/linear_model/_stochastic_gradient.py:700: ConvergenceWarning: Maximum number of iteration reached before convergence. Consider increasing max_iter to improve the fit.\n",
      "  ConvergenceWarning,\n",
      "/opt/conda/lib/python3.7/site-packages/sklearn/linear_model/_stochastic_gradient.py:700: ConvergenceWarning: Maximum number of iteration reached before convergence. Consider increasing max_iter to improve the fit.\n",
      "  ConvergenceWarning,\n",
      "/opt/conda/lib/python3.7/site-packages/sklearn/linear_model/_stochastic_gradient.py:700: ConvergenceWarning: Maximum number of iteration reached before convergence. Consider increasing max_iter to improve the fit.\n",
      "  ConvergenceWarning,\n",
      "/opt/conda/lib/python3.7/site-packages/sklearn/linear_model/_stochastic_gradient.py:700: ConvergenceWarning: Maximum number of iteration reached before convergence. Consider increasing max_iter to improve the fit.\n",
      "  ConvergenceWarning,\n",
      "/opt/conda/lib/python3.7/site-packages/sklearn/linear_model/_stochastic_gradient.py:700: ConvergenceWarning: Maximum number of iteration reached before convergence. Consider increasing max_iter to improve the fit.\n",
      "  ConvergenceWarning,\n",
      "/opt/conda/lib/python3.7/site-packages/sklearn/linear_model/_stochastic_gradient.py:700: ConvergenceWarning: Maximum number of iteration reached before convergence. Consider increasing max_iter to improve the fit.\n",
      "  ConvergenceWarning,\n",
      "/opt/conda/lib/python3.7/site-packages/sklearn/linear_model/_stochastic_gradient.py:700: ConvergenceWarning: Maximum number of iteration reached before convergence. Consider increasing max_iter to improve the fit.\n",
      "  ConvergenceWarning,\n",
      "/opt/conda/lib/python3.7/site-packages/sklearn/linear_model/_stochastic_gradient.py:700: ConvergenceWarning: Maximum number of iteration reached before convergence. Consider increasing max_iter to improve the fit.\n",
      "  ConvergenceWarning,\n",
      "/opt/conda/lib/python3.7/site-packages/sklearn/linear_model/_stochastic_gradient.py:700: ConvergenceWarning: Maximum number of iteration reached before convergence. Consider increasing max_iter to improve the fit.\n",
      "  ConvergenceWarning,\n",
      "/opt/conda/lib/python3.7/site-packages/sklearn/linear_model/_stochastic_gradient.py:700: ConvergenceWarning: Maximum number of iteration reached before convergence. Consider increasing max_iter to improve the fit.\n",
      "  ConvergenceWarning,\n",
      "/opt/conda/lib/python3.7/site-packages/sklearn/linear_model/_stochastic_gradient.py:700: ConvergenceWarning: Maximum number of iteration reached before convergence. Consider increasing max_iter to improve the fit.\n",
      "  ConvergenceWarning,\n",
      "/opt/conda/lib/python3.7/site-packages/sklearn/linear_model/_stochastic_gradient.py:700: ConvergenceWarning: Maximum number of iteration reached before convergence. Consider increasing max_iter to improve the fit.\n",
      "  ConvergenceWarning,\n",
      "/opt/conda/lib/python3.7/site-packages/sklearn/linear_model/_stochastic_gradient.py:700: ConvergenceWarning: Maximum number of iteration reached before convergence. Consider increasing max_iter to improve the fit.\n",
      "  ConvergenceWarning,\n",
      "/opt/conda/lib/python3.7/site-packages/sklearn/linear_model/_stochastic_gradient.py:700: ConvergenceWarning: Maximum number of iteration reached before convergence. Consider increasing max_iter to improve the fit.\n",
      "  ConvergenceWarning,\n",
      "/opt/conda/lib/python3.7/site-packages/sklearn/linear_model/_stochastic_gradient.py:700: ConvergenceWarning: Maximum number of iteration reached before convergence. Consider increasing max_iter to improve the fit.\n",
      "  ConvergenceWarning,\n",
      "/opt/conda/lib/python3.7/site-packages/sklearn/linear_model/_stochastic_gradient.py:700: ConvergenceWarning: Maximum number of iteration reached before convergence. Consider increasing max_iter to improve the fit.\n",
      "  ConvergenceWarning,\n",
      "/opt/conda/lib/python3.7/site-packages/sklearn/linear_model/_stochastic_gradient.py:700: ConvergenceWarning: Maximum number of iteration reached before convergence. Consider increasing max_iter to improve the fit.\n",
      "  ConvergenceWarning,\n",
      "/opt/conda/lib/python3.7/site-packages/sklearn/linear_model/_stochastic_gradient.py:700: ConvergenceWarning: Maximum number of iteration reached before convergence. Consider increasing max_iter to improve the fit.\n",
      "  ConvergenceWarning,\n",
      "/opt/conda/lib/python3.7/site-packages/sklearn/linear_model/_stochastic_gradient.py:700: ConvergenceWarning: Maximum number of iteration reached before convergence. Consider increasing max_iter to improve the fit.\n",
      "  ConvergenceWarning,\n",
      "/opt/conda/lib/python3.7/site-packages/sklearn/linear_model/_stochastic_gradient.py:700: ConvergenceWarning: Maximum number of iteration reached before convergence. Consider increasing max_iter to improve the fit.\n",
      "  ConvergenceWarning,\n",
      "/opt/conda/lib/python3.7/site-packages/sklearn/linear_model/_stochastic_gradient.py:700: ConvergenceWarning: Maximum number of iteration reached before convergence. Consider increasing max_iter to improve the fit.\n",
      "  ConvergenceWarning,\n",
      "/opt/conda/lib/python3.7/site-packages/sklearn/linear_model/_stochastic_gradient.py:700: ConvergenceWarning: Maximum number of iteration reached before convergence. Consider increasing max_iter to improve the fit.\n",
      "  ConvergenceWarning,\n",
      "/opt/conda/lib/python3.7/site-packages/sklearn/linear_model/_stochastic_gradient.py:700: ConvergenceWarning: Maximum number of iteration reached before convergence. Consider increasing max_iter to improve the fit.\n",
      "  ConvergenceWarning,\n",
      "/opt/conda/lib/python3.7/site-packages/sklearn/linear_model/_stochastic_gradient.py:700: ConvergenceWarning: Maximum number of iteration reached before convergence. Consider increasing max_iter to improve the fit.\n",
      "  ConvergenceWarning,\n",
      "/opt/conda/lib/python3.7/site-packages/sklearn/linear_model/_stochastic_gradient.py:700: ConvergenceWarning: Maximum number of iteration reached before convergence. Consider increasing max_iter to improve the fit.\n",
      "  ConvergenceWarning,\n",
      "/opt/conda/lib/python3.7/site-packages/sklearn/linear_model/_stochastic_gradient.py:700: ConvergenceWarning: Maximum number of iteration reached before convergence. Consider increasing max_iter to improve the fit.\n",
      "  ConvergenceWarning,\n",
      "/opt/conda/lib/python3.7/site-packages/sklearn/linear_model/_stochastic_gradient.py:700: ConvergenceWarning: Maximum number of iteration reached before convergence. Consider increasing max_iter to improve the fit.\n",
      "  ConvergenceWarning,\n",
      "/opt/conda/lib/python3.7/site-packages/sklearn/linear_model/_stochastic_gradient.py:700: ConvergenceWarning: Maximum number of iteration reached before convergence. Consider increasing max_iter to improve the fit.\n",
      "  ConvergenceWarning,\n",
      "/opt/conda/lib/python3.7/site-packages/sklearn/linear_model/_stochastic_gradient.py:700: ConvergenceWarning: Maximum number of iteration reached before convergence. Consider increasing max_iter to improve the fit.\n",
      "  ConvergenceWarning,\n",
      "/opt/conda/lib/python3.7/site-packages/sklearn/linear_model/_stochastic_gradient.py:700: ConvergenceWarning: Maximum number of iteration reached before convergence. Consider increasing max_iter to improve the fit.\n",
      "  ConvergenceWarning,\n",
      "/opt/conda/lib/python3.7/site-packages/sklearn/linear_model/_stochastic_gradient.py:700: ConvergenceWarning: Maximum number of iteration reached before convergence. Consider increasing max_iter to improve the fit.\n",
      "  ConvergenceWarning,\n",
      "/opt/conda/lib/python3.7/site-packages/sklearn/linear_model/_stochastic_gradient.py:700: ConvergenceWarning: Maximum number of iteration reached before convergence. Consider increasing max_iter to improve the fit.\n",
      "  ConvergenceWarning,\n",
      "/opt/conda/lib/python3.7/site-packages/sklearn/linear_model/_stochastic_gradient.py:700: ConvergenceWarning: Maximum number of iteration reached before convergence. Consider increasing max_iter to improve the fit.\n",
      "  ConvergenceWarning,\n",
      "/opt/conda/lib/python3.7/site-packages/sklearn/linear_model/_stochastic_gradient.py:700: ConvergenceWarning: Maximum number of iteration reached before convergence. Consider increasing max_iter to improve the fit.\n",
      "  ConvergenceWarning,\n",
      "/opt/conda/lib/python3.7/site-packages/sklearn/linear_model/_stochastic_gradient.py:700: ConvergenceWarning: Maximum number of iteration reached before convergence. Consider increasing max_iter to improve the fit.\n",
      "  ConvergenceWarning,\n",
      "/opt/conda/lib/python3.7/site-packages/sklearn/linear_model/_stochastic_gradient.py:700: ConvergenceWarning: Maximum number of iteration reached before convergence. Consider increasing max_iter to improve the fit.\n",
      "  ConvergenceWarning,\n",
      "/opt/conda/lib/python3.7/site-packages/sklearn/linear_model/_stochastic_gradient.py:700: ConvergenceWarning: Maximum number of iteration reached before convergence. Consider increasing max_iter to improve the fit.\n",
      "  ConvergenceWarning,\n",
      "/opt/conda/lib/python3.7/site-packages/sklearn/linear_model/_stochastic_gradient.py:700: ConvergenceWarning: Maximum number of iteration reached before convergence. Consider increasing max_iter to improve the fit.\n",
      "  ConvergenceWarning,\n",
      "/opt/conda/lib/python3.7/site-packages/sklearn/linear_model/_stochastic_gradient.py:700: ConvergenceWarning: Maximum number of iteration reached before convergence. Consider increasing max_iter to improve the fit.\n",
      "  ConvergenceWarning,\n",
      "/opt/conda/lib/python3.7/site-packages/sklearn/linear_model/_stochastic_gradient.py:700: ConvergenceWarning: Maximum number of iteration reached before convergence. Consider increasing max_iter to improve the fit.\n",
      "  ConvergenceWarning,\n",
      "/opt/conda/lib/python3.7/site-packages/sklearn/linear_model/_stochastic_gradient.py:700: ConvergenceWarning: Maximum number of iteration reached before convergence. Consider increasing max_iter to improve the fit.\n",
      "  ConvergenceWarning,\n",
      "/opt/conda/lib/python3.7/site-packages/sklearn/linear_model/_stochastic_gradient.py:700: ConvergenceWarning: Maximum number of iteration reached before convergence. Consider increasing max_iter to improve the fit.\n",
      "  ConvergenceWarning,\n",
      "/opt/conda/lib/python3.7/site-packages/sklearn/linear_model/_stochastic_gradient.py:700: ConvergenceWarning: Maximum number of iteration reached before convergence. Consider increasing max_iter to improve the fit.\n",
      "  ConvergenceWarning,\n",
      "/opt/conda/lib/python3.7/site-packages/sklearn/linear_model/_stochastic_gradient.py:700: ConvergenceWarning: Maximum number of iteration reached before convergence. Consider increasing max_iter to improve the fit.\n",
      "  ConvergenceWarning,\n",
      "/opt/conda/lib/python3.7/site-packages/sklearn/linear_model/_stochastic_gradient.py:700: ConvergenceWarning: Maximum number of iteration reached before convergence. Consider increasing max_iter to improve the fit.\n",
      "  ConvergenceWarning,\n",
      "/opt/conda/lib/python3.7/site-packages/sklearn/linear_model/_stochastic_gradient.py:700: ConvergenceWarning: Maximum number of iteration reached before convergence. Consider increasing max_iter to improve the fit.\n",
      "  ConvergenceWarning,\n",
      "/opt/conda/lib/python3.7/site-packages/sklearn/linear_model/_stochastic_gradient.py:700: ConvergenceWarning: Maximum number of iteration reached before convergence. Consider increasing max_iter to improve the fit.\n",
      "  ConvergenceWarning,\n",
      "/opt/conda/lib/python3.7/site-packages/sklearn/linear_model/_stochastic_gradient.py:700: ConvergenceWarning: Maximum number of iteration reached before convergence. Consider increasing max_iter to improve the fit.\n",
      "  ConvergenceWarning,\n",
      "/opt/conda/lib/python3.7/site-packages/sklearn/linear_model/_stochastic_gradient.py:700: ConvergenceWarning: Maximum number of iteration reached before convergence. Consider increasing max_iter to improve the fit.\n",
      "  ConvergenceWarning,\n",
      "/opt/conda/lib/python3.7/site-packages/sklearn/linear_model/_stochastic_gradient.py:700: ConvergenceWarning: Maximum number of iteration reached before convergence. Consider increasing max_iter to improve the fit.\n",
      "  ConvergenceWarning,\n",
      "/opt/conda/lib/python3.7/site-packages/sklearn/linear_model/_stochastic_gradient.py:700: ConvergenceWarning: Maximum number of iteration reached before convergence. Consider increasing max_iter to improve the fit.\n",
      "  ConvergenceWarning,\n",
      "/opt/conda/lib/python3.7/site-packages/sklearn/linear_model/_stochastic_gradient.py:700: ConvergenceWarning: Maximum number of iteration reached before convergence. Consider increasing max_iter to improve the fit.\n",
      "  ConvergenceWarning,\n",
      "/opt/conda/lib/python3.7/site-packages/sklearn/linear_model/_stochastic_gradient.py:700: ConvergenceWarning: Maximum number of iteration reached before convergence. Consider increasing max_iter to improve the fit.\n",
      "  ConvergenceWarning,\n",
      "/opt/conda/lib/python3.7/site-packages/sklearn/linear_model/_stochastic_gradient.py:700: ConvergenceWarning: Maximum number of iteration reached before convergence. Consider increasing max_iter to improve the fit.\n",
      "  ConvergenceWarning,\n",
      "/opt/conda/lib/python3.7/site-packages/sklearn/linear_model/_stochastic_gradient.py:700: ConvergenceWarning: Maximum number of iteration reached before convergence. Consider increasing max_iter to improve the fit.\n",
      "  ConvergenceWarning,\n",
      "/opt/conda/lib/python3.7/site-packages/sklearn/linear_model/_stochastic_gradient.py:700: ConvergenceWarning: Maximum number of iteration reached before convergence. Consider increasing max_iter to improve the fit.\n",
      "  ConvergenceWarning,\n",
      "/opt/conda/lib/python3.7/site-packages/sklearn/linear_model/_stochastic_gradient.py:700: ConvergenceWarning: Maximum number of iteration reached before convergence. Consider increasing max_iter to improve the fit.\n",
      "  ConvergenceWarning,\n",
      "/opt/conda/lib/python3.7/site-packages/sklearn/linear_model/_stochastic_gradient.py:700: ConvergenceWarning: Maximum number of iteration reached before convergence. Consider increasing max_iter to improve the fit.\n",
      "  ConvergenceWarning,\n",
      "/opt/conda/lib/python3.7/site-packages/sklearn/linear_model/_stochastic_gradient.py:700: ConvergenceWarning: Maximum number of iteration reached before convergence. Consider increasing max_iter to improve the fit.\n",
      "  ConvergenceWarning,\n",
      "/opt/conda/lib/python3.7/site-packages/sklearn/linear_model/_stochastic_gradient.py:700: ConvergenceWarning: Maximum number of iteration reached before convergence. Consider increasing max_iter to improve the fit.\n",
      "  ConvergenceWarning,\n",
      "/opt/conda/lib/python3.7/site-packages/sklearn/linear_model/_stochastic_gradient.py:700: ConvergenceWarning: Maximum number of iteration reached before convergence. Consider increasing max_iter to improve the fit.\n",
      "  ConvergenceWarning,\n",
      "/opt/conda/lib/python3.7/site-packages/sklearn/linear_model/_stochastic_gradient.py:700: ConvergenceWarning: Maximum number of iteration reached before convergence. Consider increasing max_iter to improve the fit.\n",
      "  ConvergenceWarning,\n",
      "/opt/conda/lib/python3.7/site-packages/sklearn/linear_model/_stochastic_gradient.py:700: ConvergenceWarning: Maximum number of iteration reached before convergence. Consider increasing max_iter to improve the fit.\n",
      "  ConvergenceWarning,\n",
      "/opt/conda/lib/python3.7/site-packages/sklearn/linear_model/_stochastic_gradient.py:700: ConvergenceWarning: Maximum number of iteration reached before convergence. Consider increasing max_iter to improve the fit.\n",
      "  ConvergenceWarning,\n",
      "/opt/conda/lib/python3.7/site-packages/sklearn/linear_model/_stochastic_gradient.py:700: ConvergenceWarning: Maximum number of iteration reached before convergence. Consider increasing max_iter to improve the fit.\n",
      "  ConvergenceWarning,\n",
      "/opt/conda/lib/python3.7/site-packages/sklearn/linear_model/_stochastic_gradient.py:700: ConvergenceWarning: Maximum number of iteration reached before convergence. Consider increasing max_iter to improve the fit.\n",
      "  ConvergenceWarning,\n",
      "/opt/conda/lib/python3.7/site-packages/sklearn/linear_model/_stochastic_gradient.py:700: ConvergenceWarning: Maximum number of iteration reached before convergence. Consider increasing max_iter to improve the fit.\n",
      "  ConvergenceWarning,\n",
      "/opt/conda/lib/python3.7/site-packages/sklearn/linear_model/_stochastic_gradient.py:700: ConvergenceWarning: Maximum number of iteration reached before convergence. Consider increasing max_iter to improve the fit.\n",
      "  ConvergenceWarning,\n",
      "/opt/conda/lib/python3.7/site-packages/sklearn/linear_model/_stochastic_gradient.py:700: ConvergenceWarning: Maximum number of iteration reached before convergence. Consider increasing max_iter to improve the fit.\n",
      "  ConvergenceWarning,\n",
      "/opt/conda/lib/python3.7/site-packages/sklearn/linear_model/_stochastic_gradient.py:700: ConvergenceWarning: Maximum number of iteration reached before convergence. Consider increasing max_iter to improve the fit.\n",
      "  ConvergenceWarning,\n",
      "/opt/conda/lib/python3.7/site-packages/sklearn/linear_model/_stochastic_gradient.py:700: ConvergenceWarning: Maximum number of iteration reached before convergence. Consider increasing max_iter to improve the fit.\n",
      "  ConvergenceWarning,\n",
      "/opt/conda/lib/python3.7/site-packages/sklearn/linear_model/_stochastic_gradient.py:700: ConvergenceWarning: Maximum number of iteration reached before convergence. Consider increasing max_iter to improve the fit.\n",
      "  ConvergenceWarning,\n",
      "/opt/conda/lib/python3.7/site-packages/sklearn/linear_model/_stochastic_gradient.py:700: ConvergenceWarning: Maximum number of iteration reached before convergence. Consider increasing max_iter to improve the fit.\n",
      "  ConvergenceWarning,\n",
      "/opt/conda/lib/python3.7/site-packages/sklearn/linear_model/_stochastic_gradient.py:700: ConvergenceWarning: Maximum number of iteration reached before convergence. Consider increasing max_iter to improve the fit.\n",
      "  ConvergenceWarning,\n",
      "/opt/conda/lib/python3.7/site-packages/sklearn/linear_model/_stochastic_gradient.py:700: ConvergenceWarning: Maximum number of iteration reached before convergence. Consider increasing max_iter to improve the fit.\n",
      "  ConvergenceWarning,\n",
      "/opt/conda/lib/python3.7/site-packages/sklearn/linear_model/_stochastic_gradient.py:700: ConvergenceWarning: Maximum number of iteration reached before convergence. Consider increasing max_iter to improve the fit.\n",
      "  ConvergenceWarning,\n",
      "/opt/conda/lib/python3.7/site-packages/sklearn/linear_model/_stochastic_gradient.py:700: ConvergenceWarning: Maximum number of iteration reached before convergence. Consider increasing max_iter to improve the fit.\n",
      "  ConvergenceWarning,\n",
      "/opt/conda/lib/python3.7/site-packages/sklearn/linear_model/_stochastic_gradient.py:700: ConvergenceWarning: Maximum number of iteration reached before convergence. Consider increasing max_iter to improve the fit.\n",
      "  ConvergenceWarning,\n",
      "/opt/conda/lib/python3.7/site-packages/sklearn/linear_model/_stochastic_gradient.py:700: ConvergenceWarning: Maximum number of iteration reached before convergence. Consider increasing max_iter to improve the fit.\n",
      "  ConvergenceWarning,\n",
      "/opt/conda/lib/python3.7/site-packages/sklearn/linear_model/_stochastic_gradient.py:700: ConvergenceWarning: Maximum number of iteration reached before convergence. Consider increasing max_iter to improve the fit.\n",
      "  ConvergenceWarning,\n",
      "/opt/conda/lib/python3.7/site-packages/sklearn/linear_model/_stochastic_gradient.py:700: ConvergenceWarning: Maximum number of iteration reached before convergence. Consider increasing max_iter to improve the fit.\n",
      "  ConvergenceWarning,\n",
      "/opt/conda/lib/python3.7/site-packages/sklearn/linear_model/_stochastic_gradient.py:700: ConvergenceWarning: Maximum number of iteration reached before convergence. Consider increasing max_iter to improve the fit.\n",
      "  ConvergenceWarning,\n",
      "/opt/conda/lib/python3.7/site-packages/sklearn/linear_model/_stochastic_gradient.py:700: ConvergenceWarning: Maximum number of iteration reached before convergence. Consider increasing max_iter to improve the fit.\n",
      "  ConvergenceWarning,\n",
      "/opt/conda/lib/python3.7/site-packages/sklearn/linear_model/_stochastic_gradient.py:700: ConvergenceWarning: Maximum number of iteration reached before convergence. Consider increasing max_iter to improve the fit.\n",
      "  ConvergenceWarning,\n",
      "/opt/conda/lib/python3.7/site-packages/sklearn/linear_model/_stochastic_gradient.py:700: ConvergenceWarning: Maximum number of iteration reached before convergence. Consider increasing max_iter to improve the fit.\n",
      "  ConvergenceWarning,\n",
      "/opt/conda/lib/python3.7/site-packages/sklearn/linear_model/_stochastic_gradient.py:700: ConvergenceWarning: Maximum number of iteration reached before convergence. Consider increasing max_iter to improve the fit.\n",
      "  ConvergenceWarning,\n",
      "/opt/conda/lib/python3.7/site-packages/sklearn/linear_model/_stochastic_gradient.py:700: ConvergenceWarning: Maximum number of iteration reached before convergence. Consider increasing max_iter to improve the fit.\n",
      "  ConvergenceWarning,\n",
      "/opt/conda/lib/python3.7/site-packages/sklearn/linear_model/_stochastic_gradient.py:700: ConvergenceWarning: Maximum number of iteration reached before convergence. Consider increasing max_iter to improve the fit.\n",
      "  ConvergenceWarning,\n",
      "/opt/conda/lib/python3.7/site-packages/sklearn/linear_model/_stochastic_gradient.py:700: ConvergenceWarning: Maximum number of iteration reached before convergence. Consider increasing max_iter to improve the fit.\n",
      "  ConvergenceWarning,\n",
      "/opt/conda/lib/python3.7/site-packages/sklearn/linear_model/_stochastic_gradient.py:700: ConvergenceWarning: Maximum number of iteration reached before convergence. Consider increasing max_iter to improve the fit.\n",
      "  ConvergenceWarning,\n",
      "/opt/conda/lib/python3.7/site-packages/sklearn/linear_model/_stochastic_gradient.py:700: ConvergenceWarning: Maximum number of iteration reached before convergence. Consider increasing max_iter to improve the fit.\n",
      "  ConvergenceWarning,\n",
      "/opt/conda/lib/python3.7/site-packages/sklearn/linear_model/_stochastic_gradient.py:700: ConvergenceWarning: Maximum number of iteration reached before convergence. Consider increasing max_iter to improve the fit.\n",
      "  ConvergenceWarning,\n",
      "/opt/conda/lib/python3.7/site-packages/sklearn/linear_model/_stochastic_gradient.py:700: ConvergenceWarning: Maximum number of iteration reached before convergence. Consider increasing max_iter to improve the fit.\n",
      "  ConvergenceWarning,\n",
      "/opt/conda/lib/python3.7/site-packages/sklearn/linear_model/_stochastic_gradient.py:700: ConvergenceWarning: Maximum number of iteration reached before convergence. Consider increasing max_iter to improve the fit.\n",
      "  ConvergenceWarning,\n",
      "/opt/conda/lib/python3.7/site-packages/sklearn/linear_model/_stochastic_gradient.py:700: ConvergenceWarning: Maximum number of iteration reached before convergence. Consider increasing max_iter to improve the fit.\n",
      "  ConvergenceWarning,\n",
      "/opt/conda/lib/python3.7/site-packages/sklearn/linear_model/_stochastic_gradient.py:700: ConvergenceWarning: Maximum number of iteration reached before convergence. Consider increasing max_iter to improve the fit.\n",
      "  ConvergenceWarning,\n",
      "/opt/conda/lib/python3.7/site-packages/sklearn/linear_model/_stochastic_gradient.py:700: ConvergenceWarning: Maximum number of iteration reached before convergence. Consider increasing max_iter to improve the fit.\n",
      "  ConvergenceWarning,\n",
      "/opt/conda/lib/python3.7/site-packages/sklearn/linear_model/_stochastic_gradient.py:700: ConvergenceWarning: Maximum number of iteration reached before convergence. Consider increasing max_iter to improve the fit.\n",
      "  ConvergenceWarning,\n",
      "/opt/conda/lib/python3.7/site-packages/sklearn/linear_model/_stochastic_gradient.py:700: ConvergenceWarning: Maximum number of iteration reached before convergence. Consider increasing max_iter to improve the fit.\n",
      "  ConvergenceWarning,\n",
      "/opt/conda/lib/python3.7/site-packages/sklearn/linear_model/_stochastic_gradient.py:700: ConvergenceWarning: Maximum number of iteration reached before convergence. Consider increasing max_iter to improve the fit.\n",
      "  ConvergenceWarning,\n",
      "/opt/conda/lib/python3.7/site-packages/sklearn/linear_model/_stochastic_gradient.py:700: ConvergenceWarning: Maximum number of iteration reached before convergence. Consider increasing max_iter to improve the fit.\n",
      "  ConvergenceWarning,\n"
     ]
    },
    {
     "name": "stdout",
     "output_type": "stream",
     "text": [
      "Best: 0.755568 using {'alpha': 0.001, 'l1_ratio': 0.15, 'loss': 'log', 'max_iter': 1000, 'penalty': 'elasticnet'}\n"
     ]
    }
   ],
   "source": [
    "model = SGDClassifier()\n",
    "param_grid = {'alpha': [0.0001, 0.001, 0.01, 0.1, 1, 10],\n",
    "              'penalty': ['l1', 'l2', 'elasticnet'],\n",
    "              'l1_ratio': [0, 0.15, 0.5, 0.85, 1],\n",
    "              'max_iter': [1000, 5000, 10000],\n",
    "              'loss': ['hinge', 'log', 'modified_huber', 'squared_hinge']}\n",
    "kfold = StratifiedKFold(n_splits=5, shuffle=True, random_state=7)\n",
    "grid_search = GridSearchCV(model, param_grid, scoring='accuracy', n_jobs=-1, cv=kfold, verbose=1)\n",
    "grid_result = grid_search.fit(X_train, y_train)\n",
    "best_model_sgd = grid_search.best_estimator_\n",
    "print(\"Best: %f using %s\" % (grid_result.best_score_, grid_result.best_params_))"
   ]
  },
  {
   "cell_type": "code",
   "execution_count": 38,
   "id": "a1efdf8f",
   "metadata": {
    "execution": {
     "iopub.execute_input": "2023-03-29T03:56:40.151506Z",
     "iopub.status.busy": "2023-03-29T03:56:40.151180Z",
     "iopub.status.idle": "2023-03-29T03:56:43.854103Z",
     "shell.execute_reply": "2023-03-29T03:56:43.853435Z"
    },
    "papermill": {
     "duration": 3.729167,
     "end_time": "2023-03-29T03:56:43.856477",
     "exception": false,
     "start_time": "2023-03-29T03:56:40.127310",
     "status": "completed"
    },
    "tags": []
   },
   "outputs": [
    {
     "name": "stdout",
     "output_type": "stream",
     "text": [
      "Fitting 10 folds for each of 200 candidates, totalling 2000 fits\n",
      "Best: 0.753917 using {'C': 0.1, 'class_weight': 'balanced', 'fit_intercept': True, 'penalty': 'l1', 'solver': 'saga'}\n"
     ]
    }
   ],
   "source": [
    "# run grid search to improve results\n",
    "model = LogisticRegression()\n",
    "param_grid = {'C': [0.01, 0.1, 1, 10, 100],\n",
    "              'penalty': ['l1', 'l2'],\n",
    "              'solver': ['liblinear', 'newton-cg', 'lbfgs', 'sag', 'saga'],\n",
    "              'fit_intercept': [True, False],\n",
    "              'class_weight': [None, 'balanced']}\n",
    "kfold = StratifiedKFold(n_splits=10, shuffle=True, random_state=7)\n",
    "grid_search = GridSearchCV(model, param_grid, scoring='accuracy', n_jobs=-1, cv=kfold, verbose=1)\n",
    "grid_result = grid_search.fit(X_train, y_train)\n",
    "best_model_logreg = grid_search.best_estimator_\n",
    "print(\"Best: %f using %s\" % (grid_result.best_score_, grid_result.best_params_))"
   ]
  },
  {
   "cell_type": "code",
   "execution_count": 39,
   "id": "5fa30f15",
   "metadata": {
    "execution": {
     "iopub.execute_input": "2023-03-29T03:56:43.902987Z",
     "iopub.status.busy": "2023-03-29T03:56:43.902441Z",
     "iopub.status.idle": "2023-03-29T03:56:44.420844Z",
     "shell.execute_reply": "2023-03-29T03:56:44.419677Z"
    },
    "papermill": {
     "duration": 0.544276,
     "end_time": "2023-03-29T03:56:44.423698",
     "exception": false,
     "start_time": "2023-03-29T03:56:43.879422",
     "status": "completed"
    },
    "tags": []
   },
   "outputs": [
    {
     "name": "stdout",
     "output_type": "stream",
     "text": [
      "Current baseline is LogisticRegression\n",
      "CV f1 score is 0.7965945264004632\n",
      "CV f1 weighted score is 0.7529330810482923\n",
      "CV area under the curve is 0.8266826102418208\n",
      "CV accuracy is 0.7539938556067589\n",
      "CV precision is 0.7945978118852774\n",
      "CV recall is 0.8012091038406828\n",
      "\n",
      "\n",
      "Time taken = 0.5133662223815918\n",
      "\n",
      "\n"
     ]
    }
   ],
   "source": [
    "# get predictions\n",
    "y_pred_logreg = run_pred(X_train, y_train,best_model_logreg,10)"
   ]
  },
  {
   "cell_type": "code",
   "execution_count": 40,
   "id": "d804070d",
   "metadata": {
    "_kg_hide-output": false,
    "execution": {
     "iopub.execute_input": "2023-03-29T03:56:44.474925Z",
     "iopub.status.busy": "2023-03-29T03:56:44.473235Z",
     "iopub.status.idle": "2023-03-29T03:56:44.890473Z",
     "shell.execute_reply": "2023-03-29T03:56:44.889449Z"
    },
    "papermill": {
     "duration": 0.443954,
     "end_time": "2023-03-29T03:56:44.892932",
     "exception": false,
     "start_time": "2023-03-29T03:56:44.448978",
     "status": "completed"
    },
    "tags": []
   },
   "outputs": [
    {
     "name": "stdout",
     "output_type": "stream",
     "text": [
      "Current baseline is SGDClassifier\n",
      "CV f1 score is 0.7888374879670655\n",
      "CV f1 weighted score is 0.730701885030953\n",
      "CV area under the curve is 0.826557728781413\n",
      "CV accuracy is 0.7507168458781363\n",
      "CV precision is 0.7857086952630189\n",
      "CV recall is 0.8172119487908962\n",
      "\n",
      "\n",
      "Time taken = 0.41050219535827637\n",
      "\n",
      "\n"
     ]
    }
   ],
   "source": [
    "y_pred_sgd = run_pred(X_train, y_train,best_model_sgd,10)"
   ]
  },
  {
   "cell_type": "code",
   "execution_count": 41,
   "id": "7126f475",
   "metadata": {
    "execution": {
     "iopub.execute_input": "2023-03-29T03:56:44.940860Z",
     "iopub.status.busy": "2023-03-29T03:56:44.940321Z",
     "iopub.status.idle": "2023-03-29T03:56:44.945784Z",
     "shell.execute_reply": "2023-03-29T03:56:44.945110Z"
    },
    "papermill": {
     "duration": 0.031676,
     "end_time": "2023-03-29T03:56:44.947594",
     "exception": false,
     "start_time": "2023-03-29T03:56:44.915918",
     "status": "completed"
    },
    "tags": []
   },
   "outputs": [],
   "source": [
    "# asses prediction results\n",
    "def run_pred_test(y_test, y_pred):    \n",
    "    accuracy = accuracy_score(y_test, y_pred)\n",
    "    roc_auc = roc_auc_score(y_test, y_pred) \n",
    "    print(\"Y_test Accuracy = {}\".format(accuracy))\n",
    "    print(\"Y_test ROC Area under Curve = {}\".format(roc_auc))\n",
    "    print('Confusion matrix:')\n",
    "    print(confusion_matrix(y_test, y_pred))\n",
    "    print('\\nClassification report:')\n",
    "    print(classification_report(y_test, y_pred))"
   ]
  },
  {
   "cell_type": "code",
   "execution_count": 42,
   "id": "84180fcf",
   "metadata": {
    "execution": {
     "iopub.execute_input": "2023-03-29T03:56:44.995422Z",
     "iopub.status.busy": "2023-03-29T03:56:44.994835Z",
     "iopub.status.idle": "2023-03-29T03:56:45.004695Z",
     "shell.execute_reply": "2023-03-29T03:56:45.003757Z"
    },
    "papermill": {
     "duration": 0.036156,
     "end_time": "2023-03-29T03:56:45.006551",
     "exception": false,
     "start_time": "2023-03-29T03:56:44.970395",
     "status": "completed"
    },
    "tags": []
   },
   "outputs": [
    {
     "name": "stdout",
     "output_type": "stream",
     "text": [
      "Y_test Accuracy = 0.7806691449814126\n",
      "Y_test ROC Area under Curve = 0.7771125555935683\n",
      "Confusion matrix:\n",
      "[[ 84  27]\n",
      " [ 32 126]]\n",
      "\n",
      "Classification report:\n",
      "              precision    recall  f1-score   support\n",
      "\n",
      "           0       0.72      0.76      0.74       111\n",
      "           1       0.82      0.80      0.81       158\n",
      "\n",
      "    accuracy                           0.78       269\n",
      "   macro avg       0.77      0.78      0.78       269\n",
      "weighted avg       0.78      0.78      0.78       269\n",
      "\n"
     ]
    }
   ],
   "source": [
    "#asses the results logreg\n",
    "run_pred_test(y_test,y_pred_logreg)"
   ]
  },
  {
   "cell_type": "code",
   "execution_count": 43,
   "id": "4538dbbe",
   "metadata": {
    "execution": {
     "iopub.execute_input": "2023-03-29T03:56:45.054561Z",
     "iopub.status.busy": "2023-03-29T03:56:45.053997Z",
     "iopub.status.idle": "2023-03-29T03:56:45.063808Z",
     "shell.execute_reply": "2023-03-29T03:56:45.062874Z"
    },
    "papermill": {
     "duration": 0.036286,
     "end_time": "2023-03-29T03:56:45.065853",
     "exception": false,
     "start_time": "2023-03-29T03:56:45.029567",
     "status": "completed"
    },
    "tags": []
   },
   "outputs": [
    {
     "name": "stdout",
     "output_type": "stream",
     "text": [
      "Y_test Accuracy = 0.7286245353159851\n",
      "Y_test ROC Area under Curve = 0.6885904892234006\n",
      "Confusion matrix:\n",
      "[[ 51  60]\n",
      " [ 13 145]]\n",
      "\n",
      "Classification report:\n",
      "              precision    recall  f1-score   support\n",
      "\n",
      "           0       0.80      0.46      0.58       111\n",
      "           1       0.71      0.92      0.80       158\n",
      "\n",
      "    accuracy                           0.73       269\n",
      "   macro avg       0.75      0.69      0.69       269\n",
      "weighted avg       0.74      0.73      0.71       269\n",
      "\n"
     ]
    }
   ],
   "source": [
    "#asses the results sgd\n",
    "run_pred_test(y_test,y_pred_sgd)"
   ]
  },
  {
   "cell_type": "code",
   "execution_count": 44,
   "id": "c0b6d9aa",
   "metadata": {
    "execution": {
     "iopub.execute_input": "2023-03-29T03:56:45.114805Z",
     "iopub.status.busy": "2023-03-29T03:56:45.113581Z",
     "iopub.status.idle": "2023-03-29T03:56:45.122997Z",
     "shell.execute_reply": "2023-03-29T03:56:45.122250Z"
    },
    "papermill": {
     "duration": 0.036206,
     "end_time": "2023-03-29T03:56:45.124847",
     "exception": false,
     "start_time": "2023-03-29T03:56:45.088641",
     "status": "completed"
    },
    "tags": []
   },
   "outputs": [
    {
     "data": {
      "text/plain": [
       "0.5156842761786127"
      ]
     },
     "execution_count": 44,
     "metadata": {},
     "output_type": "execute_result"
    }
   ],
   "source": [
    "# create metric\n",
    "high_prob = best_model_logreg.predict_proba(X)[:, 1].mean()\n",
    "high_prob"
   ]
  },
  {
   "cell_type": "markdown",
   "id": "8403c415",
   "metadata": {
    "papermill": {
     "duration": 0.023478,
     "end_time": "2023-03-29T03:56:45.172264",
     "exception": false,
     "start_time": "2023-03-29T03:56:45.148786",
     "status": "completed"
    },
    "tags": []
   },
   "source": []
  }
 ],
 "metadata": {
  "kernelspec": {
   "display_name": "Python 3",
   "language": "python",
   "name": "python3"
  },
  "language_info": {
   "codemirror_mode": {
    "name": "ipython",
    "version": 3
   },
   "file_extension": ".py",
   "mimetype": "text/x-python",
   "name": "python",
   "nbconvert_exporter": "python",
   "pygments_lexer": "ipython3",
   "version": "3.7.12"
  },
  "papermill": {
   "default_parameters": {},
   "duration": 72.790257,
   "end_time": "2023-03-29T03:56:47.815411",
   "environment_variables": {},
   "exception": null,
   "input_path": "__notebook__.ipynb",
   "output_path": "__notebook__.ipynb",
   "parameters": {},
   "start_time": "2023-03-29T03:55:35.025154",
   "version": "2.4.0"
  }
 },
 "nbformat": 4,
 "nbformat_minor": 5
}
